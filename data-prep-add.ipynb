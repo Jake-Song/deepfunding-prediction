{
 "cells": [
  {
   "cell_type": "code",
   "execution_count": 1,
   "metadata": {},
   "outputs": [],
   "source": [
    "import pandas as pd\n",
    "from pathlib import Path\n",
    "\n",
    "part_path = Path(\"part-2\")\n",
    "raw_path = Path(f\"{part_path}/raw\")\n",
    "processed_path = Path(f\"{part_path}/processed\")\n",
    "submission_path = Path(f\"{part_path}/submission\")\n"
   ]
  },
  {
   "cell_type": "code",
   "execution_count": 2,
   "metadata": {},
   "outputs": [],
   "source": [
    "df_train = pd.read_csv(f\"{part_path}/train.csv\")\n",
    "df_test = pd.read_csv(f\"{part_path}/test.csv\")"
   ]
  },
  {
   "cell_type": "code",
   "execution_count": 3,
   "metadata": {},
   "outputs": [],
   "source": [
    "# get all projects in the train/test datasets\n",
    "projects = pd.concat([\n",
    "    df_train['project_a'],\n",
    "    df_train['project_b'],\n",
    "    df_test['project_a'],\n",
    "    df_test['project_b']\n",
    "]).unique().tolist()"
   ]
  },
  {
   "cell_type": "code",
   "execution_count": 4,
   "metadata": {},
   "outputs": [
    {
     "data": {
      "text/plain": [
       "(117,\n",
       " ['https://github.com/mochajs/mocha',\n",
       "  'https://github.com/chzyer/readline',\n",
       "  'https://github.com/gulpjs/gulp',\n",
       "  'https://github.com/webpack/webpack',\n",
       "  'https://github.com/redux-saga/redux-saga'])"
      ]
     },
     "execution_count": 4,
     "metadata": {},
     "output_type": "execute_result"
    }
   ],
   "source": [
    "len(projects), projects[:5]"
   ]
  },
  {
   "cell_type": "code",
   "execution_count": 5,
   "metadata": {},
   "outputs": [],
   "source": [
    "def remove_str(projects):\n",
    "    projects = [p.replace('https://github.com/', '') for p in projects]\n",
    "    return projects\n",
    "\n",
    "def remove_str_df(df):\n",
    "    df['project_a'] = df['project_a'].str.replace('https://github.com/', '')\n",
    "    df['project_b'] = df['project_b'].str.replace('https://github.com/', '')\n",
    "    return df\n"
   ]
  },
  {
   "cell_type": "code",
   "execution_count": 6,
   "metadata": {},
   "outputs": [],
   "source": [
    "def check_na(df):\n",
    "    return df[df.isna().sum(axis=1) > 0]"
   ]
  },
  {
   "cell_type": "code",
   "execution_count": 7,
   "metadata": {},
   "outputs": [],
   "source": [
    "# remove https://github.com/ from project names\n",
    "df_train = remove_str_df(df_train)\n",
    "df_test = remove_str_df(df_test)\n",
    "projects = remove_str(projects)"
   ]
  },
  {
   "cell_type": "code",
   "execution_count": 8,
   "metadata": {},
   "outputs": [],
   "source": [
    "df_projects = pd.read_csv(f\"{raw_path}/github-projects.csv\")"
   ]
  },
  {
   "cell_type": "code",
   "execution_count": 9,
   "metadata": {},
   "outputs": [],
   "source": [
    "def add_repo_matrics(df_projects, df):\n",
    "    df_projects = df_projects[['full_name', 'description', 'created_at', 'updated_at', 'size', 'has_wiki',\n",
    "                          'stargazers_count', 'watchers_count', 'forks_count', \n",
    "                          'open_issues_count', 'subscribers_count']]\n",
    "    # Rename columns\n",
    "    df_projects = df_projects.rename(columns={\n",
    "        'full_name': 'project',\n",
    "        'stargazers_count': 'stars',\n",
    "        'watchers_count': 'watchers', \n",
    "        'forks_count': 'forks',\n",
    "        'open_issues_count': 'open_issues'\n",
    "    })\n",
    "    # Convert project to lowercase\n",
    "    df_projects['project'] = df_projects['project'].str.lower()\n",
    "\n",
    "    # add github repo data\n",
    "    df = df.merge(\n",
    "        df_projects,\n",
    "        left_on=\"project_a\",\n",
    "        right_on=\"project\",\n",
    "        how=\"left\",\n",
    "        suffixes=('', '_a')\n",
    "    )\n",
    "    df.drop(columns=['project'], inplace=True)\n",
    "\n",
    "    df = df.merge(\n",
    "        df_projects,\n",
    "        left_on=\"project_b\",\n",
    "        right_on=\"project\",\n",
    "        how=\"left\",\n",
    "        suffixes=('', '_b')\n",
    "    )\n",
    "    df.drop(columns=['project'], inplace=True)    \n",
    "    return df"
   ]
  },
  {
   "cell_type": "code",
   "execution_count": 10,
   "metadata": {},
   "outputs": [],
   "source": [
    "df_train = add_repo_matrics(df_projects, df_train)\n",
    "df_test = add_repo_matrics(df_projects, df_test)"
   ]
  },
  {
   "cell_type": "code",
   "execution_count": 11,
   "metadata": {},
   "outputs": [],
   "source": [
    "# get github activity data\n",
    "df_act = pd.read_csv(f\"{raw_path}/github-activity.csv\")\n",
    "df_act['repo_url'] = df_act['repo_url'].str.replace('https://github.com/', '')"
   ]
  },
  {
   "cell_type": "code",
   "execution_count": 12,
   "metadata": {},
   "outputs": [
    {
     "data": {
      "text/plain": [
       "{'bradfitz/iter',\n",
       " 'humanwhocodes/object-schema',\n",
       " 'pnpm/cmd-shim',\n",
       " 'sheetjs/js-crc32',\n",
       " 'vweevers/module-error'}"
      ]
     },
     "execution_count": 12,
     "metadata": {},
     "output_type": "execute_result"
    }
   ],
   "source": [
    "missing_values = set(projects) - set(df_act['repo_url'])\n",
    "missing_values"
   ]
  },
  {
   "cell_type": "code",
   "execution_count": 13,
   "metadata": {},
   "outputs": [],
   "source": [
    "def add_repo_activity(df_act, df):\n",
    "    # add github activity data\n",
    "    df = df.merge(\n",
    "        df_act,\n",
    "        left_on=\"project_a\",\n",
    "        right_on=\"repo_url\",\n",
    "        how=\"left\",\n",
    "        suffixes=('', '_a')\n",
    "    )\n",
    "    df.drop(columns=['repo_url'], inplace=True)\n",
    "\n",
    "    df = df.merge(\n",
    "        df_act,\n",
    "        left_on=\"project_b\",\n",
    "        right_on=\"repo_url\",\n",
    "        how=\"left\",\n",
    "        suffixes=('', '_b')\n",
    "    )\n",
    "    df.drop(columns=['repo_url'], inplace=True)\n",
    "    \n",
    "    return df"
   ]
  },
  {
   "cell_type": "code",
   "execution_count": 14,
   "metadata": {},
   "outputs": [],
   "source": [
    "df_train = add_repo_activity(df_act, df_train)\n",
    "df_test = add_repo_activity(df_act, df_test)"
   ]
  },
  {
   "cell_type": "code",
   "execution_count": 15,
   "metadata": {},
   "outputs": [],
   "source": [
    "df_train.columns = df_train.columns.str.lower()\n",
    "df_test.columns = df_test.columns.str.lower()"
   ]
  },
  {
   "cell_type": "code",
   "execution_count": 16,
   "metadata": {},
   "outputs": [
    {
     "data": {
      "text/plain": [
       "(          id           project_a                       project_b  weight_a  \\\n",
       " 398     1113  emotion-js/emotion                   pnpm/cmd-shim  0.490741   \n",
       " 413     1128  go-task/slim-sprig                   pnpm/cmd-shim  0.063830   \n",
       " 427     1142       level/levelup                   pnpm/cmd-shim  0.241379   \n",
       " 440     1155     chzyer/readline                   pnpm/cmd-shim  0.043478   \n",
       " 452     1167           vuejs/vue                   pnpm/cmd-shim  0.979779   \n",
       " ...      ...                 ...                             ...       ...   \n",
       " 20677  20603     mattn/go-isatty                zloirock/core-js  0.013424   \n",
       " 20678  20604     mattn/go-isatty               pytest-dev/pytest  0.029344   \n",
       " 20679  20605     mattn/go-isatty                    clap-rs/clap  0.227586   \n",
       " 20680  20606     mattn/go-isatty  import-js/eslint-plugin-import  0.268293   \n",
       " 20681  20607     mattn/go-isatty           webreflection/flatted  0.188356   \n",
       " \n",
       "        weight_b  total_amount_usd          funder  quarter  \\\n",
       " 398    0.509259               432  opencollective  2018-10   \n",
       " 413    0.936170               235  opencollective  2018-10   \n",
       " 427    0.758621               290  opencollective  2018-10   \n",
       " 440    0.956522               230  opencollective  2018-10   \n",
       " 452    0.020221             10880  opencollective  2018-10   \n",
       " ...         ...               ...             ...      ...   \n",
       " 20677  0.986576             12291  opencollective  2023-10   \n",
       " 20678  0.970656              5623  opencollective  2023-10   \n",
       " 20679  0.772414               725  opencollective  2023-10   \n",
       " 20680  0.731707               615  opencollective  2023-10   \n",
       " 20681  0.811644               876  opencollective  2023-10   \n",
       " \n",
       "                                              description  \\\n",
       " 398    👩‍🎤 CSS-in-JS library designed for high perfor...   \n",
       " 413          Useful template functions for Go templates.   \n",
       " 427    Superseded by abstract-level. A wrapper for ab...   \n",
       " 440    Readline is a pure go(golang) implementation f...   \n",
       " 452    This is the repo for Vue 2. For Vue 3, go to h...   \n",
       " ...                                                  ...   \n",
       " 20677                                                NaN   \n",
       " 20678                                                NaN   \n",
       " 20679                                                NaN   \n",
       " 20680                                                NaN   \n",
       " 20681                                                NaN   \n",
       " \n",
       "                  created_at  ... issue_comment_b  issue_opened_b  \\\n",
       " 398    2017-05-27T04:23:45Z  ...             NaN             NaN   \n",
       " 413    2019-06-23T00:39:37Z  ...             NaN             NaN   \n",
       " 427    2012-08-13T14:32:00Z  ...             NaN             NaN   \n",
       " 440    2015-09-20T15:11:30Z  ...             NaN             NaN   \n",
       " 452    2013-07-29T03:24:51Z  ...             NaN             NaN   \n",
       " ...                     ...  ...             ...             ...   \n",
       " 20677  2014-04-01T01:53:09Z  ...            15.0             5.0   \n",
       " 20678  2014-04-01T01:53:09Z  ...           383.0            37.0   \n",
       " 20679  2014-04-01T01:53:09Z  ...           114.0            13.0   \n",
       " 20680  2014-04-01T01:53:09Z  ...           379.0            27.0   \n",
       " 20681  2014-04-01T01:53:09Z  ...             0.0             0.0   \n",
       " \n",
       "        issue_reopened_b  pull_request_closed_b  pull_request_merged_b  \\\n",
       " 398                 NaN                    NaN                    NaN   \n",
       " 413                 NaN                    NaN                    NaN   \n",
       " 427                 NaN                    NaN                    NaN   \n",
       " 440                 NaN                    NaN                    NaN   \n",
       " 452                 NaN                    NaN                    NaN   \n",
       " ...                 ...                    ...                    ...   \n",
       " 20677               0.0                    3.0                    1.0   \n",
       " 20678               1.0                   54.0                   45.0   \n",
       " 20679               1.0                   22.0                   19.0   \n",
       " 20680               2.0                   17.0                   13.0   \n",
       " 20681               0.0                    0.0                    0.0   \n",
       " \n",
       "        pull_request_opened_b  pull_request_reopened_b  \\\n",
       " 398                      NaN                      NaN   \n",
       " 413                      NaN                      NaN   \n",
       " 427                      NaN                      NaN   \n",
       " 440                      NaN                      NaN   \n",
       " 452                      NaN                      NaN   \n",
       " ...                      ...                      ...   \n",
       " 20677                    1.0                      0.0   \n",
       " 20678                   56.0                      3.0   \n",
       " 20679                   32.0                      0.0   \n",
       " 20680                   12.0                      1.0   \n",
       " 20681                    0.0                      0.0   \n",
       " \n",
       "        pull_request_review_comment_b release_published_b starred_b  \n",
       " 398                              NaN                 NaN       NaN  \n",
       " 413                              NaN                 NaN       NaN  \n",
       " 427                              NaN                 NaN       NaN  \n",
       " 440                              NaN                 NaN       NaN  \n",
       " 452                              NaN                 NaN       NaN  \n",
       " ...                              ...                 ...       ...  \n",
       " 20677                            0.0                 0.0     187.0  \n",
       " 20678                          108.0                 0.0     171.0  \n",
       " 20679                           60.0                 4.0     254.0  \n",
       " 20680                           45.0                 0.0      58.0  \n",
       " 20681                            0.0                 0.0      11.0  \n",
       " \n",
       " [2582 rows x 54 columns],\n",
       "          id                           project_a                    project_b  \\\n",
       " 13    20897                       rollup/rollup  humanwhocodes/object-schema   \n",
       " 23    20907                       rollup/rollup              mattn/go-isatty   \n",
       " 29    20913                       rollup/rollup                pnpm/cmd-shim   \n",
       " 41    20925                       rollup/rollup             sheetjs/js-crc32   \n",
       " 62    20946                     webpack/webpack  humanwhocodes/object-schema   \n",
       " ...     ...                                 ...                          ...   \n",
       " 4220  25179  eth-infinitism/account-abstraction              sigp/lighthouse   \n",
       " 4221  25180  eth-infinitism/account-abstraction           chainsafe/lodestar   \n",
       " 4222  25181  eth-infinitism/account-abstraction             libp2p/go-libp2p   \n",
       " 4223  25182  eth-infinitism/account-abstraction               bluealloy/revm   \n",
       " 4224  25183  eth-infinitism/account-abstraction             ethereum/solc-js   \n",
       " \n",
       "       total_amount_usd          funder  quarter  \\\n",
       " 13                5885  opencollective  2024-01   \n",
       " 23                2814  opencollective  2024-01   \n",
       " 29               25248  opencollective  2024-01   \n",
       " 41                2475  opencollective  2024-01   \n",
       " 62               30104  opencollective  2024-01   \n",
       " ...                ...             ...      ...   \n",
       " 4220            514341        optimism  2024-10   \n",
       " 4221            451197        optimism  2024-10   \n",
       " 4222            930088        optimism  2024-10   \n",
       " 4223            501298        optimism  2024-10   \n",
       " 4224            396354        optimism  2024-10   \n",
       " \n",
       "                                             description            created_at  \\\n",
       " 13                    Next-generation ES module bundler  2015-05-14T22:26:28Z   \n",
       " 23                    Next-generation ES module bundler  2015-05-14T22:26:28Z   \n",
       " 29                    Next-generation ES module bundler  2015-05-14T22:26:28Z   \n",
       " 41                    Next-generation ES module bundler  2015-05-14T22:26:28Z   \n",
       " 62    A bundler for javascript and friends. Packs ma...  2012-03-10T10:08:14Z   \n",
       " ...                                                 ...                   ...   \n",
       " 4220                                                NaN  2022-01-24T15:01:07Z   \n",
       " 4221                                                NaN  2022-01-24T15:01:07Z   \n",
       " 4222                                                NaN  2022-01-24T15:01:07Z   \n",
       " 4223                                                NaN  2022-01-24T15:01:07Z   \n",
       " 4224                                                NaN  2022-01-24T15:01:07Z   \n",
       " \n",
       "                 updated_at   size  ...  issue_comment_b  issue_opened_b  \\\n",
       " 13    2025-02-07T08:05:48Z  30754  ...              NaN             NaN   \n",
       " 23    2025-02-07T08:05:48Z  30754  ...              0.0             0.0   \n",
       " 29    2025-02-07T08:05:48Z  30754  ...              NaN             NaN   \n",
       " 41    2025-02-07T08:05:48Z  30754  ...              NaN             NaN   \n",
       " 62    2025-02-07T08:07:59Z  67447  ...              NaN             NaN   \n",
       " ...                    ...    ...  ...              ...             ...   \n",
       " 4220  2025-02-06T16:19:18Z   3223  ...           1558.0           107.0   \n",
       " 4221  2025-02-06T16:19:18Z   3223  ...           1176.0            56.0   \n",
       " 4222  2025-02-06T16:19:18Z   3223  ...            356.0            51.0   \n",
       " 4223  2025-02-06T16:19:18Z   3223  ...            338.0            69.0   \n",
       " 4224  2025-02-06T16:19:18Z   3223  ...             27.0             4.0   \n",
       " \n",
       "       issue_reopened_b  pull_request_closed_b  pull_request_merged_b  \\\n",
       " 13                 NaN                    NaN                    NaN   \n",
       " 23                 0.0                    0.0                    0.0   \n",
       " 29                 NaN                    NaN                    NaN   \n",
       " 41                 NaN                    NaN                    NaN   \n",
       " 62                 NaN                    NaN                    NaN   \n",
       " ...                ...                    ...                    ...   \n",
       " 4220               4.0                  420.0                  198.0   \n",
       " 4221               4.0                  253.0                  206.0   \n",
       " 4222               2.0                  123.0                   84.0   \n",
       " 4223               1.0                  202.0                  147.0   \n",
       " 4224               0.0                    6.0                    3.0   \n",
       " \n",
       "       pull_request_opened_b pull_request_reopened_b  \\\n",
       " 13                      NaN                     NaN   \n",
       " 23                      0.0                     0.0   \n",
       " 29                      NaN                     NaN   \n",
       " 41                      NaN                     NaN   \n",
       " 62                      NaN                     NaN   \n",
       " ...                     ...                     ...   \n",
       " 4220                  416.0                     5.0   \n",
       " 4221                  244.0                     1.0   \n",
       " 4222                  133.0                     1.0   \n",
       " 4223                  212.0                     1.0   \n",
       " 4224                    9.0                     0.0   \n",
       " \n",
       "      pull_request_review_comment_b release_published_b  starred_b  \n",
       " 13                             NaN                 NaN        NaN  \n",
       " 23                             0.0                 0.0        7.0  \n",
       " 29                             NaN                 NaN        NaN  \n",
       " 41                             NaN                 NaN        NaN  \n",
       " 62                             NaN                 NaN        NaN  \n",
       " ...                            ...                 ...        ...  \n",
       " 4220                        1102.0                 2.0      211.0  \n",
       " 4221                         507.0                19.0      114.0  \n",
       " 4222                         187.0                 9.0      246.0  \n",
       " 4223                         122.0                12.0      188.0  \n",
       " 4224                          11.0                 0.0       35.0  \n",
       " \n",
       " [618 rows x 52 columns])"
      ]
     },
     "execution_count": 16,
     "metadata": {},
     "output_type": "execute_result"
    }
   ],
   "source": [
    "isna_train = check_na(df_train)\n",
    "isna_test = check_na(df_test)\n",
    "isna_train, isna_test"
   ]
  },
  {
   "cell_type": "code",
   "execution_count": 17,
   "metadata": {},
   "outputs": [],
   "source": [
    "df_train.fillna(0, inplace=True)\n",
    "df_test.fillna(0, inplace=True)"
   ]
  },
  {
   "cell_type": "code",
   "execution_count": 18,
   "metadata": {},
   "outputs": [],
   "source": [
    "def add_dependent_metrics(df_repo, df):\n",
    "\n",
    "    df_repo_copy = df_repo[['repo_url', 'num_dependents_in_oso', 'oso_dependency_rank']].copy()\n",
    "    df_repo_copy['repo_url'] = df_repo_copy['repo_url'].str.replace('https://github.com/', '')\n",
    "    \n",
    "    # Rename columns\n",
    "    df_repo_copy = df_repo_copy.rename(columns={\n",
    "        'num_dependents_in_oso': 'num_dependents',\n",
    "        'oso_dependency_rank': 'dependency_rank'\n",
    "    })\n",
    "    \n",
    "    # add github repo data\n",
    "    df = df.merge(\n",
    "        df_repo_copy,\n",
    "        left_on=\"project_a\",\n",
    "        right_on=\"repo_url\",\n",
    "        how=\"left\",\n",
    "        suffixes=('', '_a')\n",
    "    )\n",
    "    df.drop(columns=['repo_url'], inplace=True)\n",
    "\n",
    "    df = df.merge(\n",
    "        df_repo_copy,\n",
    "        left_on=\"project_b\",\n",
    "        right_on=\"repo_url\",\n",
    "        how=\"left\",\n",
    "        suffixes=('', '_b')\n",
    "    )\n",
    "    df.drop(columns=['repo_url'], inplace=True)    \n",
    "    \n",
    "    return df"
   ]
  },
  {
   "cell_type": "code",
   "execution_count": 19,
   "metadata": {},
   "outputs": [],
   "source": [
    "df_dependent = pd.read_csv(f\"{raw_path}/dependent-metrics.csv\")\n",
    "df_repo = pd.read_csv(f\"{raw_path}/repo_metrics_and_metadata.csv\")"
   ]
  },
  {
   "cell_type": "code",
   "execution_count": 20,
   "metadata": {},
   "outputs": [],
   "source": [
    "df_train = add_dependent_metrics(df_repo, df_train)\n",
    "df_test = add_dependent_metrics(df_repo, df_test)"
   ]
  },
  {
   "cell_type": "code",
   "execution_count": 21,
   "metadata": {},
   "outputs": [
    {
     "data": {
      "text/plain": [
       "(Empty DataFrame\n",
       " Columns: [id, project_a, project_b, weight_a, weight_b, total_amount_usd, funder, quarter, description, created_at, updated_at, size, has_wiki, stars, watchers, forks, open_issues, subscribers_count, description_b, created_at_b, updated_at_b, size_b, has_wiki_b, stars_b, watchers_b, forks_b, open_issues_b, subscribers_count_b, commit_code, forked, issue_closed, issue_comment, issue_opened, issue_reopened, pull_request_closed, pull_request_merged, pull_request_opened, pull_request_reopened, pull_request_review_comment, release_published, starred, commit_code_b, forked_b, issue_closed_b, issue_comment_b, issue_opened_b, issue_reopened_b, pull_request_closed_b, pull_request_merged_b, pull_request_opened_b, pull_request_reopened_b, pull_request_review_comment_b, release_published_b, starred_b, num_dependents, dependency_rank, num_dependents_b, dependency_rank_b]\n",
       " Index: []\n",
       " \n",
       " [0 rows x 58 columns],\n",
       " Empty DataFrame\n",
       " Columns: [id, project_a, project_b, total_amount_usd, funder, quarter, description, created_at, updated_at, size, has_wiki, stars, watchers, forks, open_issues, subscribers_count, description_b, created_at_b, updated_at_b, size_b, has_wiki_b, stars_b, watchers_b, forks_b, open_issues_b, subscribers_count_b, commit_code, forked, issue_closed, issue_comment, issue_opened, issue_reopened, pull_request_closed, pull_request_merged, pull_request_opened, pull_request_reopened, pull_request_review_comment, release_published, starred, commit_code_b, forked_b, issue_closed_b, issue_comment_b, issue_opened_b, issue_reopened_b, pull_request_closed_b, pull_request_merged_b, pull_request_opened_b, pull_request_reopened_b, pull_request_review_comment_b, release_published_b, starred_b, num_dependents, dependency_rank, num_dependents_b, dependency_rank_b]\n",
       " Index: []\n",
       " \n",
       " [0 rows x 56 columns])"
      ]
     },
     "execution_count": 21,
     "metadata": {},
     "output_type": "execute_result"
    }
   ],
   "source": [
    "isna_train = check_na(df_train)\n",
    "isna_test = check_na(df_test)\n",
    "isna_train, isna_test"
   ]
  },
  {
   "cell_type": "code",
   "execution_count": 22,
   "metadata": {},
   "outputs": [],
   "source": [
    "def calculate_v_index(df_dependent, df_repo):\n",
    "    \"\"\"\n",
    "    Calculate V-Index of a software package.\n",
    "    \n",
    "    V-Index is N where N is the number of first-order dependencies that have\n",
    "    at least N second-order dependencies.\n",
    "    \"\"\"\n",
    "    data = {}\n",
    "\n",
    "    for _, row in df_repo.iterrows():\n",
    "        repo_url = row['repo_url']\n",
    "\n",
    "        # convert to list\n",
    "        first_order_dependents = row['list_of_dependents_in_oso'].strip(\"[]\").replace(\"'\", \"\").split()\n",
    "        \n",
    "        # first order dependencies\n",
    "        first_order_df = df_dependent[df_dependent['package_artifact_name'].isin(first_order_dependents)].copy()\n",
    "\n",
    "        # Sort in descending order by 'num_dependents' (the second-order counts)\n",
    "        first_order_df.sort_values(by='num_dependents', ascending=False, inplace=True)\n",
    "        \n",
    "        # convert the second-order counts to a list\n",
    "        second_order_counts = first_order_df['num_dependents'].tolist()\n",
    "        \n",
    "        # V-Index logic:\n",
    "        # We want the largest N s.t. there are at least N dependencies (first-order),\n",
    "        # each having >= N dependents (second-order).\n",
    "        v_index = 0\n",
    "        for i, count in enumerate(second_order_counts):\n",
    "            # i is zero-based, so the candidate N is (i+1).\n",
    "            # If count < (i+1), we can't claim an index of (i+1).\n",
    "            if count < (i + 1):\n",
    "                v_index = i  # the largest index we could achieve so far\n",
    "                break\n",
    "        else:\n",
    "            # If we never break, it means *all* dependencies had enough second-order\n",
    "            # so the V-Index equals the total number of first-order dependencies\n",
    "            v_index = len(second_order_counts)\n",
    "\n",
    "        data[repo_url] = v_index\n",
    "\n",
    "    return data"
   ]
  },
  {
   "cell_type": "code",
   "execution_count": 23,
   "metadata": {},
   "outputs": [],
   "source": [
    "v_index = calculate_v_index(df_dependent, df_repo)\n",
    "df_v_index = pd.DataFrame.from_dict(v_index, orient='index', columns=['v_index']).reset_index().rename(columns={'index': 'repo_url'})\n",
    "df_v_index['repo_url'] = df_v_index['repo_url'].str.replace('https://github.com/', '')"
   ]
  },
  {
   "cell_type": "code",
   "execution_count": 24,
   "metadata": {},
   "outputs": [],
   "source": [
    "def add_v_index_features(df_v_index, df):\n",
    "    \"\"\"\n",
    "    Add v_index to the DataFrame.\n",
    "    \"\"\"\n",
    "    df = df.merge(\n",
    "        df_v_index,\n",
    "        left_on=\"project_a\",\n",
    "        right_on=\"repo_url\",\n",
    "        how=\"left\",\n",
    "        suffixes=('', '_a'),\n",
    "    )\n",
    "    df.drop(columns=['repo_url'], inplace=True)\n",
    "    \n",
    "    df = df.merge(\n",
    "        df_v_index,\n",
    "        left_on=\"project_b\",\n",
    "        right_on=\"repo_url\",\n",
    "        how=\"left\",\n",
    "        suffixes=('', '_b'),\n",
    "    )\n",
    "    df.drop(columns=['repo_url'], inplace=True)\n",
    "\n",
    "    return df"
   ]
  },
  {
   "cell_type": "code",
   "execution_count": 25,
   "metadata": {},
   "outputs": [],
   "source": [
    "df_train = add_v_index_features(df_v_index, df_train)\n",
    "df_test = add_v_index_features(df_v_index, df_test)"
   ]
  },
  {
   "cell_type": "code",
   "execution_count": 26,
   "metadata": {},
   "outputs": [
    {
     "data": {
      "text/plain": [
       "(Empty DataFrame\n",
       " Columns: [id, project_a, project_b, weight_a, weight_b, total_amount_usd, funder, quarter, description, created_at, updated_at, size, has_wiki, stars, watchers, forks, open_issues, subscribers_count, description_b, created_at_b, updated_at_b, size_b, has_wiki_b, stars_b, watchers_b, forks_b, open_issues_b, subscribers_count_b, commit_code, forked, issue_closed, issue_comment, issue_opened, issue_reopened, pull_request_closed, pull_request_merged, pull_request_opened, pull_request_reopened, pull_request_review_comment, release_published, starred, commit_code_b, forked_b, issue_closed_b, issue_comment_b, issue_opened_b, issue_reopened_b, pull_request_closed_b, pull_request_merged_b, pull_request_opened_b, pull_request_reopened_b, pull_request_review_comment_b, release_published_b, starred_b, num_dependents, dependency_rank, num_dependents_b, dependency_rank_b, v_index, v_index_b]\n",
       " Index: []\n",
       " \n",
       " [0 rows x 60 columns],\n",
       " Empty DataFrame\n",
       " Columns: [id, project_a, project_b, total_amount_usd, funder, quarter, description, created_at, updated_at, size, has_wiki, stars, watchers, forks, open_issues, subscribers_count, description_b, created_at_b, updated_at_b, size_b, has_wiki_b, stars_b, watchers_b, forks_b, open_issues_b, subscribers_count_b, commit_code, forked, issue_closed, issue_comment, issue_opened, issue_reopened, pull_request_closed, pull_request_merged, pull_request_opened, pull_request_reopened, pull_request_review_comment, release_published, starred, commit_code_b, forked_b, issue_closed_b, issue_comment_b, issue_opened_b, issue_reopened_b, pull_request_closed_b, pull_request_merged_b, pull_request_opened_b, pull_request_reopened_b, pull_request_review_comment_b, release_published_b, starred_b, num_dependents, dependency_rank, num_dependents_b, dependency_rank_b, v_index, v_index_b]\n",
       " Index: []\n",
       " \n",
       " [0 rows x 58 columns])"
      ]
     },
     "execution_count": 26,
     "metadata": {},
     "output_type": "execute_result"
    }
   ],
   "source": [
    "isna_train = check_na(df_train)\n",
    "isna_test = check_na(df_test)\n",
    "isna_train, isna_test"
   ]
  },
  {
   "cell_type": "code",
   "execution_count": 27,
   "metadata": {},
   "outputs": [],
   "source": [
    "def add_feature_ratios(df):\n",
    "    eps = 1e-6\n",
    "    # get repo metrics ratios\n",
    "    df['stars_ratio'] = df['stars'] / (df['stars'] + df['stars_b'] + eps)\n",
    "    df['forks_ratio'] = df['forks'] / (df['forks'] + df['forks_b'] + eps)\n",
    "    df['size_ratio'] = df['size'] / (df['size'] + df['size_b'] + eps)\n",
    "    df['watchers_ratio'] = df['watchers'] / (df['watchers'] + df['watchers_b'] + eps)\n",
    "    df['issues_ratio'] = df['open_issues'] / (df['open_issues'] + df['open_issues_b'] + eps)\n",
    "    df['subscribers_ratio'] = df['subscribers_count'] / (df['subscribers_count'] + df['subscribers_count_b'] + eps)\n",
    "\n",
    "    # get activity ratio(last 6 months)\n",
    "    df['commits_ratio'] = df['commit_code'] / (df['commit_code'] + df['commit_code_b'] + eps)\n",
    "    df['forked_ratio'] = df['forked'] / (df['forked'] + df['forked_b'] + eps)\n",
    "    df['issue_closed_ratio'] = df['issue_closed'] / (df['issue_closed'] + df['issue_closed_b'] + eps)\n",
    "    df['issue_comment_ratio'] = df['issue_comment'] / (df['issue_comment'] + df['issue_comment_b'] + eps)\n",
    "    df['issue_opened_ratio'] = df['issue_opened'] / (df['issue_opened'] + df['issue_opened_b'] + eps)\n",
    "    df['issue_reopened_ratio'] = df['issue_reopened'] / (df['issue_reopened'] + df['issue_reopened_b'] + eps)\n",
    "    df['pull_request_closed_ratio'] = df['pull_request_closed'] / (df['pull_request_closed'] + df['pull_request_closed_b'] + eps)\n",
    "    df['pull_request_merged_ratio'] = df['pull_request_merged'] / (df['pull_request_merged'] + df['pull_request_merged_b'] + eps)\n",
    "    df['pull_request_opened_ratio'] = df['pull_request_opened'] / (df['pull_request_opened'] + df['pull_request_opened_b'] + eps)\n",
    "    df['pull_request_reopened_ratio'] = df['pull_request_reopened'] / (df['pull_request_reopened'] + df['pull_request_reopened_b'] + eps)\n",
    "    df['pull_request_review_comment_ratio'] = df['pull_request_review_comment'] / (df['pull_request_review_comment'] + df['pull_request_review_comment_b'] + eps)\n",
    "    df['release_published_ratio'] = df['release_published'] / (df['release_published'] + df['release_published_b'] + eps)\n",
    "    df['starred_ratio'] = df['starred'] / (df['starred'] + df['starred_b'] + eps)\n",
    "\n",
    "    # dependent metrics ratios\n",
    "    df['num_dependents_ratio'] = df['num_dependents'] / (df['num_dependents'] + df['num_dependents_b'] + eps)\n",
    "    \n",
    "    # v_index ratios\n",
    "    df['v_index_ratio'] = df['v_index'] / (df['v_index'] + df['v_index_b'] + eps)\n",
    "    df['stars_intersection_v_index'] = df['stars'] * (df['v_index'] + eps)\n",
    "    df['stars_b_intersection_v_index_b'] = df['stars_b'] * (df['v_index_b'] + eps)\n",
    "    df['stars_ratio_intersection_v_index_ratio'] = df['stars_ratio'] * (df['v_index_ratio'] + eps)\n",
    "\n",
    "    return df"
   ]
  },
  {
   "cell_type": "code",
   "execution_count": 28,
   "metadata": {},
   "outputs": [],
   "source": [
    "df_train = add_feature_ratios(df_train)\n",
    "df_test = add_feature_ratios(df_test)"
   ]
  },
  {
   "cell_type": "code",
   "execution_count": 29,
   "metadata": {},
   "outputs": [
    {
     "data": {
      "text/plain": [
       "(Empty DataFrame\n",
       " Columns: [id, project_a, project_b, weight_a, weight_b, total_amount_usd, funder, quarter, description, created_at, updated_at, size, has_wiki, stars, watchers, forks, open_issues, subscribers_count, description_b, created_at_b, updated_at_b, size_b, has_wiki_b, stars_b, watchers_b, forks_b, open_issues_b, subscribers_count_b, commit_code, forked, issue_closed, issue_comment, issue_opened, issue_reopened, pull_request_closed, pull_request_merged, pull_request_opened, pull_request_reopened, pull_request_review_comment, release_published, starred, commit_code_b, forked_b, issue_closed_b, issue_comment_b, issue_opened_b, issue_reopened_b, pull_request_closed_b, pull_request_merged_b, pull_request_opened_b, pull_request_reopened_b, pull_request_review_comment_b, release_published_b, starred_b, num_dependents, dependency_rank, num_dependents_b, dependency_rank_b, v_index, v_index_b, stars_ratio, forks_ratio, size_ratio, watchers_ratio, issues_ratio, subscribers_ratio, commits_ratio, forked_ratio, issue_closed_ratio, issue_comment_ratio, issue_opened_ratio, issue_reopened_ratio, pull_request_closed_ratio, pull_request_merged_ratio, pull_request_opened_ratio, pull_request_reopened_ratio, pull_request_review_comment_ratio, release_published_ratio, starred_ratio, num_dependents_ratio, v_index_ratio, stars_intersection_v_index, stars_b_intersection_v_index_b, stars_ratio_intersection_v_index_ratio]\n",
       " Index: []\n",
       " \n",
       " [0 rows x 84 columns],\n",
       " Empty DataFrame\n",
       " Columns: [id, project_a, project_b, total_amount_usd, funder, quarter, description, created_at, updated_at, size, has_wiki, stars, watchers, forks, open_issues, subscribers_count, description_b, created_at_b, updated_at_b, size_b, has_wiki_b, stars_b, watchers_b, forks_b, open_issues_b, subscribers_count_b, commit_code, forked, issue_closed, issue_comment, issue_opened, issue_reopened, pull_request_closed, pull_request_merged, pull_request_opened, pull_request_reopened, pull_request_review_comment, release_published, starred, commit_code_b, forked_b, issue_closed_b, issue_comment_b, issue_opened_b, issue_reopened_b, pull_request_closed_b, pull_request_merged_b, pull_request_opened_b, pull_request_reopened_b, pull_request_review_comment_b, release_published_b, starred_b, num_dependents, dependency_rank, num_dependents_b, dependency_rank_b, v_index, v_index_b, stars_ratio, forks_ratio, size_ratio, watchers_ratio, issues_ratio, subscribers_ratio, commits_ratio, forked_ratio, issue_closed_ratio, issue_comment_ratio, issue_opened_ratio, issue_reopened_ratio, pull_request_closed_ratio, pull_request_merged_ratio, pull_request_opened_ratio, pull_request_reopened_ratio, pull_request_review_comment_ratio, release_published_ratio, starred_ratio, num_dependents_ratio, v_index_ratio, stars_intersection_v_index, stars_b_intersection_v_index_b, stars_ratio_intersection_v_index_ratio]\n",
       " Index: []\n",
       " \n",
       " [0 rows x 82 columns])"
      ]
     },
     "execution_count": 29,
     "metadata": {},
     "output_type": "execute_result"
    }
   ],
   "source": [
    "isna_train = check_na(df_train)\n",
    "isna_test = check_na(df_test)\n",
    "isna_train, isna_test"
   ]
  },
  {
   "cell_type": "code",
   "execution_count": 30,
   "metadata": {},
   "outputs": [],
   "source": [
    "df_train.to_csv(f\"{processed_path}/train-pre-embeddings.csv\", index=False)\n",
    "df_test.to_csv(f\"{processed_path}/test-pre-embeddings.csv\", index=False)\n"
   ]
  },
  {
   "cell_type": "code",
   "execution_count": null,
   "metadata": {},
   "outputs": [],
   "source": []
  }
 ],
 "metadata": {
  "kernelspec": {
   "display_name": ".venv",
   "language": "python",
   "name": "python3"
  },
  "language_info": {
   "codemirror_mode": {
    "name": "ipython",
    "version": 3
   },
   "file_extension": ".py",
   "mimetype": "text/x-python",
   "name": "python",
   "nbconvert_exporter": "python",
   "pygments_lexer": "ipython3",
   "version": "3.13.1"
  }
 },
 "nbformat": 4,
 "nbformat_minor": 2
}
