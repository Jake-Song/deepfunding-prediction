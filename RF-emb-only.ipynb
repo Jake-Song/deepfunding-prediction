{
 "cells": [
  {
   "cell_type": "code",
   "execution_count": 1,
   "metadata": {},
   "outputs": [],
   "source": [
    "import pandas as pd\n",
    "from pathlib import Path\n",
    "\n",
    "part_path = Path(\"part-1\")\n",
    "df = pd.read_csv(f\"{part_path}/processed/train-embeddings.csv\")"
   ]
  },
  {
   "cell_type": "code",
   "execution_count": 2,
   "metadata": {},
   "outputs": [],
   "source": [
    "from ast import literal_eval\n",
    "\n",
    "from sklearn.ensemble import RandomForestRegressor\n",
    "from sklearn.model_selection import train_test_split\n",
    "from sklearn.metrics import mean_squared_error, mean_absolute_error"
   ]
  },
  {
   "cell_type": "code",
   "execution_count": 3,
   "metadata": {},
   "outputs": [],
   "source": [
    "from dotenv import load_dotenv\n",
    "load_dotenv()\n",
    "from openai import OpenAI\n",
    "import numpy as np\n",
    "\n",
    "client = OpenAI()\n",
    "\n",
    "def normalize_l2(x):\n",
    "    x = np.array(x)\n",
    "    if x.ndim == 1:\n",
    "        norm = np.linalg.norm(x)\n",
    "        if norm == 0:\n",
    "            return x\n",
    "        return x / norm\n",
    "    else:\n",
    "        norm = np.linalg.norm(x, 2, axis=1, keepdims=True)\n",
    "        return np.where(norm == 0, x, x / norm)\n",
    "\n"
   ]
  },
  {
   "cell_type": "code",
   "execution_count": 4,
   "metadata": {},
   "outputs": [],
   "source": [
    "def process_embeddings(embedding_series):\n",
    "    return np.array([normalize_l2(literal_eval(emb)[:512]) for emb in embedding_series])"
   ]
  },
  {
   "cell_type": "code",
   "execution_count": 5,
   "metadata": {},
   "outputs": [],
   "source": [
    "embeddings_a = process_embeddings(df.embedding)\n",
    "embeddings_b = process_embeddings(df.embedding_b)"
   ]
  },
  {
   "cell_type": "code",
   "execution_count": 6,
   "metadata": {},
   "outputs": [
    {
     "name": "stdout",
     "output_type": "stream",
     "text": [
      "Cross-validation results (5 folds):\n",
      "MSE: 0.023058 (+/- 0.002901)\n",
      "MAE: 0.116612 (+/- 0.006274)\n"
     ]
    }
   ],
   "source": [
    "from sklearn.model_selection import KFold\n",
    "from sklearn.model_selection import cross_val_score\n",
    "\n",
    "features = np.hstack([\n",
    "    embeddings_a,\n",
    "    embeddings_b\n",
    "])\n",
    "\n",
    "# Initialize model\n",
    "rfr = RandomForestRegressor(n_estimators=100, random_state=42)\n",
    "\n",
    "# Perform k-fold cross validation\n",
    "n_folds = 5\n",
    "kf = KFold(n_splits=n_folds, shuffle=True, random_state=42)\n",
    "mse_scores = -cross_val_score(rfr, features, df.weight_a, \n",
    "                             scoring='neg_mean_squared_error', \n",
    "                             cv=kf)\n",
    "mae_scores = -cross_val_score(rfr, features, df.weight_a, \n",
    "                             scoring='neg_mean_absolute_error', \n",
    "                             cv=kf)\n",
    "\n",
    "# Print results\n",
    "print(f\"Cross-validation results ({n_folds} folds):\")\n",
    "print(f\"MSE: {mse_scores.mean():.6f} (+/- {mse_scores.std() * 2:.6f})\")\n",
    "print(f\"MAE: {mae_scores.mean():.6f} (+/- {mae_scores.std() * 2:.6f})\")"
   ]
  },
  {
   "cell_type": "code",
   "execution_count": 18,
   "metadata": {},
   "outputs": [],
   "source": [
    "df_test = pd.read_csv(\"data/test-part-1-processed.csv\")"
   ]
  },
  {
   "cell_type": "code",
   "execution_count": null,
   "metadata": {},
   "outputs": [],
   "source": [
    "test_features = np.hstack([\n",
    "    np.vstack(df_test.embedding.values),\n",
    "    np.vstack(df_test.embedding_b.values)\n",
    "])\n",
    "preds = rfr.predict(test_features)\n",
    "df_test['predicted_weight'] = preds\n",
    "df_test.to_csv(\"data/test-part-1-processed-predicted.csv\", index=False)\n"
   ]
  }
 ],
 "metadata": {
  "kernelspec": {
   "display_name": ".venv",
   "language": "python",
   "name": "python3"
  },
  "language_info": {
   "codemirror_mode": {
    "name": "ipython",
    "version": 3
   },
   "file_extension": ".py",
   "mimetype": "text/x-python",
   "name": "python",
   "nbconvert_exporter": "python",
   "pygments_lexer": "ipython3",
   "version": "3.13.1"
  }
 },
 "nbformat": 4,
 "nbformat_minor": 2
}
