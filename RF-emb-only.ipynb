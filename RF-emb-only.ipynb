{
 "cells": [
  {
   "cell_type": "code",
   "execution_count": 4,
   "metadata": {},
   "outputs": [],
   "source": [
    "import pandas as pd\n",
    "\n",
    "df = pd.read_csv(\"data/train-part-1-processed.csv\")\n",
    "\n"
   ]
  },
  {
   "cell_type": "code",
   "execution_count": 5,
   "metadata": {},
   "outputs": [],
   "source": [
    "import numpy as np\n",
    "from ast import literal_eval\n",
    "\n",
    "from sklearn.ensemble import RandomForestRegressor\n",
    "from sklearn.model_selection import train_test_split\n",
    "from sklearn.metrics import mean_squared_error, mean_absolute_error"
   ]
  },
  {
   "cell_type": "code",
   "execution_count": 16,
   "metadata": {},
   "outputs": [
    {
     "data": {
      "text/plain": [
       "array([<class 'numpy.ndarray'>], dtype=object)"
      ]
     },
     "execution_count": 16,
     "metadata": {},
     "output_type": "execute_result"
    }
   ],
   "source": [
    "df['embedding'].apply(type).unique()"
   ]
  },
  {
   "cell_type": "code",
   "execution_count": 17,
   "metadata": {},
   "outputs": [
    {
     "name": "stdout",
     "output_type": "stream",
     "text": [
      "text-embedding-3-small performance on prediction: mse=0.02, mae=0.12\n"
     ]
    }
   ],
   "source": [
    "features = np.hstack([\n",
    "    np.vstack(df.embedding.values),\n",
    "    np.vstack(df.embedding_b.values)\n",
    "])\n",
    "X_train, X_test, y_train, y_test = train_test_split(features, df.weight_a, test_size=0.2, random_state=42)\n",
    "\n",
    "rfr = RandomForestRegressor(n_estimators=100)\n",
    "rfr.fit(X_train, y_train)\n",
    "preds = rfr.predict(X_test)\n",
    "\n",
    "mse = mean_squared_error(y_test, preds)\n",
    "mae = mean_absolute_error(y_test, preds)\n",
    "\n",
    "print(f\"text-embedding-3-small performance on prediction: mse={mse:.2f}, mae={mae:.2f}\")"
   ]
  },
  {
   "cell_type": "code",
   "execution_count": null,
   "metadata": {},
   "outputs": [],
   "source": [
    "from sklearn.model_selection import KFold\n",
    "from sklearn.model_selection import cross_val_score\n",
    "\n",
    "features = np.hstack([\n",
    "    np.vstack(df.embedding.values),\n",
    "    np.vstack(df.embedding_b.values)\n",
    "])\n",
    "\n",
    "# Initialize model\n",
    "rfr = RandomForestRegressor(n_estimators=100, random_state=42)\n",
    "\n",
    "# Perform k-fold cross validation\n",
    "n_folds = 5\n",
    "kf = KFold(n_splits=n_folds, shuffle=True, random_state=42)\n",
    "mse_scores = -cross_val_score(rfr, features, df.weight_a, \n",
    "                             scoring='neg_mean_squared_error', \n",
    "                             cv=kf)\n",
    "mae_scores = -cross_val_score(rfr, features, df.weight_a, \n",
    "                             scoring='neg_mean_absolute_error', \n",
    "                             cv=kf)\n",
    "\n",
    "# Print results\n",
    "print(f\"Cross-validation results ({n_folds} folds):\")\n",
    "print(f\"MSE: {mse_scores.mean():.2f} (+/- {mse_scores.std() * 2:.2f})\")\n",
    "print(f\"MAE: {mae_scores.mean():.2f} (+/- {mae_scores.std() * 2:.2f})\")"
   ]
  },
  {
   "cell_type": "code",
   "execution_count": 18,
   "metadata": {},
   "outputs": [],
   "source": [
    "df_test = pd.read_csv(\"data/test-part-1-processed.csv\")"
   ]
  },
  {
   "cell_type": "code",
   "execution_count": null,
   "metadata": {},
   "outputs": [],
   "source": [
    "test_features = np.hstack([\n",
    "    np.vstack(df_test.embedding.values),\n",
    "    np.vstack(df_test.embedding_b.values)\n",
    "])\n",
    "preds = rfr.predict(test_features)\n",
    "df_test['predicted_weight'] = preds\n",
    "df_test.to_csv(\"data/test-part-1-processed-predicted.csv\", index=False)\n"
   ]
  }
 ],
 "metadata": {
  "kernelspec": {
   "display_name": ".venv",
   "language": "python",
   "name": "python3"
  },
  "language_info": {
   "codemirror_mode": {
    "name": "ipython",
    "version": 3
   },
   "file_extension": ".py",
   "mimetype": "text/x-python",
   "name": "python",
   "nbconvert_exporter": "python",
   "pygments_lexer": "ipython3",
   "version": "3.13.1"
  }
 },
 "nbformat": 4,
 "nbformat_minor": 2
}
