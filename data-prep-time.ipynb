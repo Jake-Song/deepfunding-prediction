{
 "cells": [
  {
   "cell_type": "code",
   "execution_count": 1,
   "metadata": {},
   "outputs": [
    {
     "data": {
      "text/plain": [
       "True"
      ]
     },
     "execution_count": 1,
     "metadata": {},
     "output_type": "execute_result"
    }
   ],
   "source": [
    "import os\n",
    "import json\n",
    "import pandas as pd\n",
    "from dotenv import load_dotenv\n",
    "load_dotenv()"
   ]
  },
  {
   "cell_type": "code",
   "execution_count": 2,
   "metadata": {},
   "outputs": [],
   "source": [
    "from pathlib import Path\n",
    "\n",
    "part_path = Path(\"part-2\")\n",
    "part_path.mkdir(exist_ok=True)\n",
    "\n",
    "raw_path = Path(f\"{part_path}/raw\")\n",
    "raw_path.mkdir(exist_ok=True)\n",
    "\n",
    "processed_path = Path(f\"{part_path}/processed\")\n",
    "processed_path.mkdir(exist_ok=True)\n",
    "\n",
    "submission_path = Path(f\"{part_path}/submission\")\n",
    "submission_path.mkdir(exist_ok=True)"
   ]
  },
  {
   "cell_type": "code",
   "execution_count": 3,
   "metadata": {},
   "outputs": [],
   "source": [
    "def stringify_array(arr):\n",
    "    return \"'\" + \"','\".join(arr) + \"'\""
   ]
  },
  {
   "cell_type": "code",
   "execution_count": 4,
   "metadata": {},
   "outputs": [],
   "source": [
    "def remove_str(projects):\n",
    "    projects = [p.replace('https://github.com/', '') for p in projects]\n",
    "    return projects"
   ]
  },
  {
   "cell_type": "code",
   "execution_count": 5,
   "metadata": {},
   "outputs": [],
   "source": [
    "def remove_str_df(df):\n",
    "    df['project_a'] = df['project_a'].str.replace('https://github.com/', '')\n",
    "    df['project_b'] = df['project_b'].str.replace('https://github.com/', '')\n",
    "    return df\n"
   ]
  },
  {
   "cell_type": "code",
   "execution_count": 6,
   "metadata": {},
   "outputs": [],
   "source": [
    "def get_dataset():\n",
    "    if str(part_path) == 'part-1':\n",
    "        # repository_url = (\n",
    "        #     \"https://raw.githubusercontent.com/deepfunding/mini-contest/refs/heads/main/\"\n",
    "        # )\n",
    "        \n",
    "        # df_train = pd.read_csv(f\"{repository_url}/dataset.csv\")\n",
    "        # df_test = pd.read_csv(f\"{repository_url}/test.csv\")\n",
    "        # df_train.to_csv(f\"{part_path}/train.csv\", index=False)\n",
    "        # df_test.to_csv(f\"{part_path}/test.csv\", index=False)\n",
    "        df_train = pd.read_csv(f\"{part_path}/train.csv\")\n",
    "        df_test = pd.read_csv(f\"{part_path}/test.csv\")\n",
    "        \n",
    "    elif str(part_path) == 'part-2':\n",
    "        df_train = pd.read_csv(f\"{part_path}/train.csv\")\n",
    "        df_test = pd.read_csv(f\"{part_path}/test.csv\")\n",
    "     \n",
    "    return df_train, df_test"
   ]
  },
  {
   "cell_type": "code",
   "execution_count": 7,
   "metadata": {},
   "outputs": [],
   "source": [
    "df_train, df_test = get_dataset()"
   ]
  },
  {
   "cell_type": "code",
   "execution_count": 8,
   "metadata": {},
   "outputs": [],
   "source": [
    "projects = pd.concat([\n",
    "    df_train['project_a'],\n",
    "    df_train['project_b'],\n",
    "    df_test['project_a'],\n",
    "    df_test['project_b']\n",
    "]).unique().tolist()"
   ]
  },
  {
   "cell_type": "code",
   "execution_count": 9,
   "metadata": {},
   "outputs": [
    {
     "data": {
      "text/plain": [
       "['https://github.com/mochajs/mocha',\n",
       " 'https://github.com/chzyer/readline',\n",
       " 'https://github.com/gulpjs/gulp',\n",
       " 'https://github.com/webpack/webpack',\n",
       " 'https://github.com/redux-saga/redux-saga']"
      ]
     },
     "execution_count": 9,
     "metadata": {},
     "output_type": "execute_result"
    }
   ],
   "source": [
    "projects[:5]"
   ]
  },
  {
   "cell_type": "code",
   "execution_count": 10,
   "metadata": {},
   "outputs": [
    {
     "data": {
      "text/plain": [
       "117"
      ]
     },
     "execution_count": 10,
     "metadata": {},
     "output_type": "execute_result"
    }
   ],
   "source": [
    "len(projects)"
   ]
  },
  {
   "cell_type": "code",
   "execution_count": 11,
   "metadata": {},
   "outputs": [],
   "source": [
    "trimed_projects = remove_str(projects)"
   ]
  },
  {
   "cell_type": "code",
   "execution_count": 12,
   "metadata": {},
   "outputs": [
    {
     "data": {
      "text/plain": [
       "array(['2016-04', '2016-07', '2016-10', '2017-01', '2017-04', '2017-07',\n",
       "       '2017-10', '2018-01', '2018-04', '2018-07', '2018-10', '2019-01',\n",
       "       '2019-04', '2019-07', '2019-10', '2020-01', '2020-04', '2020-07',\n",
       "       '2020-10', '2021-01', '2021-04', '2021-07', '2021-10', '2022-01',\n",
       "       '2022-04', '2022-07', '2022-10', '2023-01', '2023-04', '2023-07',\n",
       "       '2023-10'], dtype=object)"
      ]
     },
     "execution_count": 12,
     "metadata": {},
     "output_type": "execute_result"
    }
   ],
   "source": [
    "df_train.quarter.unique()"
   ]
  },
  {
   "cell_type": "code",
   "execution_count": 13,
   "metadata": {},
   "outputs": [
    {
     "data": {
      "text/plain": [
       "array(['2024-01', '2024-04', '2024-07', '2024-10'], dtype=object)"
      ]
     },
     "execution_count": 13,
     "metadata": {},
     "output_type": "execute_result"
    }
   ],
   "source": [
    "df_test.quarter.unique()"
   ]
  },
  {
   "cell_type": "code",
   "execution_count": 19,
   "metadata": {},
   "outputs": [
    {
     "name": "stdout",
     "output_type": "stream",
     "text": [
      "--2025-02-12 21:09:35--  https://data.gharchive.org/2016-04-01-15.json.gz\n",
      "Resolving data.gharchive.org (data.gharchive.org)... 172.67.168.206, 104.21.46.175, 2606:4700:3037::6815:2eaf, ...\n",
      "Connecting to data.gharchive.org (data.gharchive.org)|172.67.168.206|:443... connected.\n",
      "HTTP request sent, awaiting response... 200 OK\n",
      "Length: 20877966 (20M) [application/gzip]\n",
      "Saving to: ‘2016-04-01-15.json.gz’\n",
      "\n",
      "2016-04-01-15.json. 100%[===================>]  19.91M  13.3MB/s    in 1.5s    \n",
      "\n",
      "2025-02-12 21:09:37 (13.3 MB/s) - ‘2016-04-01-15.json.gz’ saved [20877966/20877966]\n",
      "\n"
     ]
    }
   ],
   "source": [
    "!wget https://data.gharchive.org/2016-04-01-15.json.gz"
   ]
  },
  {
   "cell_type": "code",
   "execution_count": 20,
   "metadata": {},
   "outputs": [],
   "source": [
    "import gzip\n",
    "import shutil\n",
    "\n",
    "with gzip.open('2016-04-01-15.json.gz', 'rb') as f_in:\n",
    "    with open('2016-04-01-15.json', 'wb') as f_out:\n",
    "        shutil.copyfileobj(f_in, f_out)\n"
   ]
  },
  {
   "cell_type": "code",
   "execution_count": 21,
   "metadata": {},
   "outputs": [],
   "source": [
    "data = pd.read_json(\"2016-04-01-15.json\", lines=True)"
   ]
  },
  {
   "cell_type": "code",
   "execution_count": 22,
   "metadata": {},
   "outputs": [
    {
     "data": {
      "text/plain": [
       "{'id': 55240038,\n",
       " 'name': 'michelpm1/base64encodewithnode',\n",
       " 'url': 'https://api.github.com/repos/michelpm1/base64encodewithnode'}"
      ]
     },
     "execution_count": 22,
     "metadata": {},
     "output_type": "execute_result"
    }
   ],
   "source": [
    "data.loc[2, 'repo']"
   ]
  },
  {
   "cell_type": "markdown",
   "metadata": {},
   "source": []
  },
  {
   "cell_type": "code",
   "execution_count": 5,
   "metadata": {},
   "outputs": [
    {
     "data": {
      "text/html": [
       "<div>\n",
       "<style scoped>\n",
       "    .dataframe tbody tr th:only-of-type {\n",
       "        vertical-align: middle;\n",
       "    }\n",
       "\n",
       "    .dataframe tbody tr th {\n",
       "        vertical-align: top;\n",
       "    }\n",
       "\n",
       "    .dataframe thead th {\n",
       "        text-align: right;\n",
       "    }\n",
       "</style>\n",
       "<table border=\"1\" class=\"dataframe\">\n",
       "  <thead>\n",
       "    <tr style=\"text-align: right;\">\n",
       "      <th></th>\n",
       "      <th>id</th>\n",
       "      <th>type</th>\n",
       "      <th>actor</th>\n",
       "      <th>repo</th>\n",
       "      <th>payload</th>\n",
       "      <th>public</th>\n",
       "      <th>created_at</th>\n",
       "      <th>org</th>\n",
       "    </tr>\n",
       "  </thead>\n",
       "  <tbody>\n",
       "    <tr>\n",
       "      <th>11346</th>\n",
       "      <td>2489678838</td>\n",
       "      <td>IssuesEvent</td>\n",
       "      <td>{'id': 1105372, 'login': 'ophian', 'gravatar_i...</td>\n",
       "      <td>{'id': 2627116, 'name': 's9y/Serendipity', 'ur...</td>\n",
       "      <td>{'action': 'closed', 'issue': {'url': 'https:/...</td>\n",
       "      <td>True</td>\n",
       "      <td>2015-01-01 15:59:59+00:00</td>\n",
       "      <td>{'id': 1104713, 'login': 's9y', 'gravatar_id':...</td>\n",
       "    </tr>\n",
       "    <tr>\n",
       "      <th>11347</th>\n",
       "      <td>2489678840</td>\n",
       "      <td>IssuesEvent</td>\n",
       "      <td>{'id': 9343331, 'login': 'No-CQRT', 'gravatar_...</td>\n",
       "      <td>{'id': 25600089, 'name': 'No-CQRT/GooGuns', 'u...</td>\n",
       "      <td>{'action': 'opened', 'issue': {'url': 'https:/...</td>\n",
       "      <td>True</td>\n",
       "      <td>2015-01-01 15:59:59+00:00</td>\n",
       "      <td>NaN</td>\n",
       "    </tr>\n",
       "    <tr>\n",
       "      <th>11348</th>\n",
       "      <td>2489678842</td>\n",
       "      <td>DeleteEvent</td>\n",
       "      <td>{'id': 2057932, 'login': 'LipkeGu', 'gravatar_...</td>\n",
       "      <td>{'id': 24847217, 'name': 'LipkeGu/OpenRA', 'ur...</td>\n",
       "      <td>{'ref': 'keep_source_clean', 'ref_type': 'bran...</td>\n",
       "      <td>True</td>\n",
       "      <td>2015-01-01 15:59:59+00:00</td>\n",
       "      <td>NaN</td>\n",
       "    </tr>\n",
       "    <tr>\n",
       "      <th>11349</th>\n",
       "      <td>2489678843</td>\n",
       "      <td>IssuesEvent</td>\n",
       "      <td>{'id': 9343331, 'login': 'No-CQRT', 'gravatar_...</td>\n",
       "      <td>{'id': 25600089, 'name': 'No-CQRT/GooGuns', 'u...</td>\n",
       "      <td>{'action': 'opened', 'issue': {'url': 'https:/...</td>\n",
       "      <td>True</td>\n",
       "      <td>2015-01-01 15:59:59+00:00</td>\n",
       "      <td>NaN</td>\n",
       "    </tr>\n",
       "    <tr>\n",
       "      <th>11350</th>\n",
       "      <td>2489678844</td>\n",
       "      <td>IssuesEvent</td>\n",
       "      <td>{'id': 9343331, 'login': 'No-CQRT', 'gravatar_...</td>\n",
       "      <td>{'id': 25600089, 'name': 'No-CQRT/GooGuns', 'u...</td>\n",
       "      <td>{'action': 'opened', 'issue': {'url': 'https:/...</td>\n",
       "      <td>True</td>\n",
       "      <td>2015-01-01 15:59:59+00:00</td>\n",
       "      <td>NaN</td>\n",
       "    </tr>\n",
       "  </tbody>\n",
       "</table>\n",
       "</div>"
      ],
      "text/plain": [
       "               id         type  \\\n",
       "11346  2489678838  IssuesEvent   \n",
       "11347  2489678840  IssuesEvent   \n",
       "11348  2489678842  DeleteEvent   \n",
       "11349  2489678843  IssuesEvent   \n",
       "11350  2489678844  IssuesEvent   \n",
       "\n",
       "                                                   actor  \\\n",
       "11346  {'id': 1105372, 'login': 'ophian', 'gravatar_i...   \n",
       "11347  {'id': 9343331, 'login': 'No-CQRT', 'gravatar_...   \n",
       "11348  {'id': 2057932, 'login': 'LipkeGu', 'gravatar_...   \n",
       "11349  {'id': 9343331, 'login': 'No-CQRT', 'gravatar_...   \n",
       "11350  {'id': 9343331, 'login': 'No-CQRT', 'gravatar_...   \n",
       "\n",
       "                                                    repo  \\\n",
       "11346  {'id': 2627116, 'name': 's9y/Serendipity', 'ur...   \n",
       "11347  {'id': 25600089, 'name': 'No-CQRT/GooGuns', 'u...   \n",
       "11348  {'id': 24847217, 'name': 'LipkeGu/OpenRA', 'ur...   \n",
       "11349  {'id': 25600089, 'name': 'No-CQRT/GooGuns', 'u...   \n",
       "11350  {'id': 25600089, 'name': 'No-CQRT/GooGuns', 'u...   \n",
       "\n",
       "                                                 payload  public  \\\n",
       "11346  {'action': 'closed', 'issue': {'url': 'https:/...    True   \n",
       "11347  {'action': 'opened', 'issue': {'url': 'https:/...    True   \n",
       "11348  {'ref': 'keep_source_clean', 'ref_type': 'bran...    True   \n",
       "11349  {'action': 'opened', 'issue': {'url': 'https:/...    True   \n",
       "11350  {'action': 'opened', 'issue': {'url': 'https:/...    True   \n",
       "\n",
       "                     created_at  \\\n",
       "11346 2015-01-01 15:59:59+00:00   \n",
       "11347 2015-01-01 15:59:59+00:00   \n",
       "11348 2015-01-01 15:59:59+00:00   \n",
       "11349 2015-01-01 15:59:59+00:00   \n",
       "11350 2015-01-01 15:59:59+00:00   \n",
       "\n",
       "                                                     org  \n",
       "11346  {'id': 1104713, 'login': 's9y', 'gravatar_id':...  \n",
       "11347                                                NaN  \n",
       "11348                                                NaN  \n",
       "11349                                                NaN  \n",
       "11350                                                NaN  "
      ]
     },
     "execution_count": 5,
     "metadata": {},
     "output_type": "execute_result"
    }
   ],
   "source": [
    "data.tail()"
   ]
  },
  {
   "cell_type": "code",
   "execution_count": 6,
   "metadata": {},
   "outputs": [
    {
     "data": {
      "text/plain": [
       "array(['CreateEvent', 'PushEvent', 'WatchEvent', 'ReleaseEvent',\n",
       "       'PullRequestEvent', 'IssuesEvent', 'ForkEvent', 'GollumEvent',\n",
       "       'IssueCommentEvent', 'DeleteEvent',\n",
       "       'PullRequestReviewCommentEvent', 'CommitCommentEvent',\n",
       "       'MemberEvent', 'PublicEvent'], dtype=object)"
      ]
     },
     "execution_count": 6,
     "metadata": {},
     "output_type": "execute_result"
    }
   ],
   "source": [
    "data.type.unique()"
   ]
  },
  {
   "cell_type": "code",
   "execution_count": null,
   "metadata": {},
   "outputs": [],
   "source": []
  }
 ],
 "metadata": {
  "kernelspec": {
   "display_name": ".venv",
   "language": "python",
   "name": "python3"
  },
  "language_info": {
   "codemirror_mode": {
    "name": "ipython",
    "version": 3
   },
   "file_extension": ".py",
   "mimetype": "text/x-python",
   "name": "python",
   "nbconvert_exporter": "python",
   "pygments_lexer": "ipython3",
   "version": "3.13.1"
  }
 },
 "nbformat": 4,
 "nbformat_minor": 2
}
