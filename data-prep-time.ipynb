{
 "cells": [
  {
   "cell_type": "code",
   "execution_count": 1,
   "metadata": {},
   "outputs": [
    {
     "data": {
      "text/plain": [
       "True"
      ]
     },
     "execution_count": 1,
     "metadata": {},
     "output_type": "execute_result"
    }
   ],
   "source": [
    "import os\n",
    "import json\n",
    "import networkx as nx\n",
    "import pandas as pd\n",
    "from google.cloud import bigquery\n",
    "import requests\n",
    "from dotenv import load_dotenv\n",
    "load_dotenv()"
   ]
  },
  {
   "cell_type": "code",
   "execution_count": 2,
   "metadata": {},
   "outputs": [],
   "source": [
    "from pathlib import Path\n",
    "\n",
    "part_path = Path(\"part-2\")\n",
    "part_path.mkdir(exist_ok=True)\n",
    "\n",
    "raw_path = Path(f\"{part_path}/raw\")\n",
    "raw_path.mkdir(exist_ok=True)\n",
    "\n",
    "processed_path = Path(f\"{part_path}/processed\")\n",
    "processed_path.mkdir(exist_ok=True)\n",
    "\n",
    "submission_path = Path(f\"{part_path}/submission\")\n",
    "submission_path.mkdir(exist_ok=True)"
   ]
  },
  {
   "cell_type": "code",
   "execution_count": 3,
   "metadata": {},
   "outputs": [
    {
     "name": "stdout",
     "output_type": "stream",
     "text": [
      "part-2/raw\n"
     ]
    }
   ],
   "source": [
    "print(raw_path)"
   ]
  },
  {
   "cell_type": "code",
   "execution_count": 4,
   "metadata": {},
   "outputs": [],
   "source": [
    "# replace with your path to credentials\n",
    "# os.environ['GOOGLE_APPLICATION_CREDENTIALS'] = '../oso_gcp_credentials.json'\n",
    "os.environ['GOOGLE_APPLICATION_CREDENTIALS'] = os.getenv('GCP_CREDENTIAL_PATH')\n",
    "# replace with your project name\n",
    "# client = bigquery.Client(project='opensource-observer')\n",
    "client = bigquery.Client(project=os.getenv('GCP_PROJECT_ID'))"
   ]
  },
  {
   "cell_type": "code",
   "execution_count": 5,
   "metadata": {},
   "outputs": [],
   "source": [
    "def stringify_array(arr):\n",
    "    return \"'\" + \"','\".join(arr) + \"'\""
   ]
  },
  {
   "cell_type": "code",
   "execution_count": 6,
   "metadata": {},
   "outputs": [],
   "source": [
    "def remove_str(projects):\n",
    "    projects = [p.replace('https://github.com/', '') for p in projects]\n",
    "    return projects"
   ]
  },
  {
   "cell_type": "code",
   "execution_count": 7,
   "metadata": {},
   "outputs": [],
   "source": [
    "def remove_str_df(df):\n",
    "    df['project_a'] = df['project_a'].str.replace('https://github.com/', '')\n",
    "    df['project_b'] = df['project_b'].str.replace('https://github.com/', '')\n",
    "    return df\n"
   ]
  },
  {
   "cell_type": "code",
   "execution_count": 8,
   "metadata": {},
   "outputs": [],
   "source": [
    "def get_dataset():\n",
    "    if str(part_path) == 'part-1':\n",
    "        # repository_url = (\n",
    "        #     \"https://raw.githubusercontent.com/deepfunding/mini-contest/refs/heads/main/\"\n",
    "        # )\n",
    "        \n",
    "        # df_train = pd.read_csv(f\"{repository_url}/dataset.csv\")\n",
    "        # df_test = pd.read_csv(f\"{repository_url}/test.csv\")\n",
    "        # df_train.to_csv(f\"{part_path}/train.csv\", index=False)\n",
    "        # df_test.to_csv(f\"{part_path}/test.csv\", index=False)\n",
    "        df_train = pd.read_csv(f\"{part_path}/train.csv\")\n",
    "        df_test = pd.read_csv(f\"{part_path}/test.csv\")\n",
    "        \n",
    "    elif str(part_path) == 'part-2':\n",
    "        df_train = pd.read_csv(f\"{part_path}/train.csv\")\n",
    "        df_test = pd.read_csv(f\"{part_path}/test.csv\")\n",
    "     \n",
    "    return df_train, df_test"
   ]
  },
  {
   "cell_type": "code",
   "execution_count": 9,
   "metadata": {},
   "outputs": [],
   "source": [
    "df_train, df_test = get_dataset()"
   ]
  },
  {
   "cell_type": "code",
   "execution_count": 10,
   "metadata": {},
   "outputs": [
    {
     "data": {
      "text/plain": [
       "(20958, 4261)"
      ]
     },
     "execution_count": 10,
     "metadata": {},
     "output_type": "execute_result"
    }
   ],
   "source": [
    "len(df_train), len(df_test)"
   ]
  },
  {
   "cell_type": "code",
   "execution_count": 11,
   "metadata": {},
   "outputs": [],
   "source": [
    "projects = pd.concat([\n",
    "    df_train['project_a'],\n",
    "    df_train['project_b'],\n",
    "    df_test['project_a'],\n",
    "    df_test['project_b']\n",
    "]).unique().tolist()"
   ]
  },
  {
   "cell_type": "code",
   "execution_count": 12,
   "metadata": {},
   "outputs": [
    {
     "data": {
      "text/plain": [
       "['https://github.com/mochajs/mocha',\n",
       " 'https://github.com/chzyer/readline',\n",
       " 'https://github.com/gulpjs/gulp',\n",
       " 'https://github.com/webpack/webpack',\n",
       " 'https://github.com/redux-saga/redux-saga']"
      ]
     },
     "execution_count": 12,
     "metadata": {},
     "output_type": "execute_result"
    }
   ],
   "source": [
    "projects[:5]"
   ]
  },
  {
   "cell_type": "code",
   "execution_count": 13,
   "metadata": {},
   "outputs": [
    {
     "data": {
      "text/plain": [
       "117"
      ]
     },
     "execution_count": 13,
     "metadata": {},
     "output_type": "execute_result"
    }
   ],
   "source": [
    "len(projects)"
   ]
  },
  {
   "cell_type": "code",
   "execution_count": 14,
   "metadata": {},
   "outputs": [],
   "source": [
    "def get_repo_data(projects):\n",
    "    headers = {\n",
    "    \"Accept\": \"application/vnd.github+json\",\n",
    "    \"Authorization\": f\"Bearer {os.getenv('GITHUB_TOKEN')}\",\n",
    "    \"X-GitHub-Api-Version\": \"2022-11-28\",\n",
    "    }\n",
    "\n",
    "    data = []\n",
    "    for project in projects:\n",
    "        api_url = f\"https://api.github.com/repos/{project}\"\n",
    "        response = requests.get(api_url, headers=headers)\n",
    "        response.raise_for_status()\n",
    "        data.append(response.json())\n",
    "    df_projects = pd.DataFrame(data)\n",
    "    df_projects.to_csv(f\"{raw_path}/github-projects.csv\", index=False)\n",
    "\n",
    "    return df_projects"
   ]
  },
  {
   "cell_type": "code",
   "execution_count": 15,
   "metadata": {},
   "outputs": [],
   "source": [
    "trimed_projects = remove_str(projects)\n",
    "df_projects = get_repo_data(trimed_projects)\n"
   ]
  },
  {
   "cell_type": "code",
   "execution_count": null,
   "metadata": {},
   "outputs": [],
   "source": [
    "trimed_projects"
   ]
  },
  {
   "cell_type": "code",
   "execution_count": null,
   "metadata": {},
   "outputs": [],
   "source": [
    "headers = {\n",
    "\"Accept\": \"application/vnd.github+json\",\n",
    "\"Authorization\": f\"Bearer {os.getenv('GITHUB_TOKEN')}\",\n",
    "\"X-GitHub-Api-Version\": \"2022-11-28\",\n",
    "}\n",
    "\n",
    "api_url = f\"https://api.github.com/repos/{trimed_projects[0]}/activity?time_period='year'\"\n",
    "response = requests.get(api_url, headers=headers)\n",
    "response.raise_for_status()\n",
    "res = response.json()\n",
    "res\n"
   ]
  },
  {
   "cell_type": "code",
   "execution_count": 48,
   "metadata": {},
   "outputs": [
    {
     "data": {
      "text/plain": [
       "30"
      ]
     },
     "execution_count": 48,
     "metadata": {},
     "output_type": "execute_result"
    }
   ],
   "source": [
    "len(res)"
   ]
  },
  {
   "cell_type": "code",
   "execution_count": null,
   "metadata": {},
   "outputs": [],
   "source": [
    "def get_repo_data_by_time(projects):\n",
    "    headers = {\n",
    "    \"Accept\": \"application/vnd.github+json\",\n",
    "    \"Authorization\": f\"Bearer {os.getenv('GITHUB_TOKEN')}\",\n",
    "    \"X-GitHub-Api-Version\": \"2022-11-28\",\n",
    "    }\n",
    "\n",
    "    data = []\n",
    "    for project in projects:\n",
    "        api_url = f\"https://api.github.com/repos/{project}\"\n",
    "        response = requests.get(api_url, headers=headers)\n",
    "        response.raise_for_status()\n",
    "        data.append(response.json())\n",
    "    df_projects = pd.DataFrame(data)\n",
    "    df_projects.to_csv(f\"{raw_path}/github-projects.csv\", index=False)\n",
    "\n",
    "    return df_projects"
   ]
  },
  {
   "cell_type": "code",
   "execution_count": null,
   "metadata": {},
   "outputs": [],
   "source": []
  },
  {
   "cell_type": "code",
   "execution_count": null,
   "metadata": {},
   "outputs": [],
   "source": []
  },
  {
   "cell_type": "code",
   "execution_count": 18,
   "metadata": {},
   "outputs": [
    {
     "name": "stderr",
     "output_type": "stream",
     "text": [
      "/home/jake/deepfunding/.venv/lib/python3.13/site-packages/google/cloud/bigquery/table.py:1820: UserWarning: BigQuery Storage module not found, fetch data with the REST endpoint instead.\n",
      "  warnings.warn(\n"
     ]
    }
   ],
   "source": [
    "q = f\"\"\"\n",
    "    WITH repos as(\n",
    "    SELECT\n",
    "        artifact_id,\n",
    "        artifact_url AS repo_url,\n",
    "    FROM\n",
    "        `oso_production.repositories_v0`\n",
    "    ),\n",
    "    events as(\n",
    "    SELECT\n",
    "        artifact_id,\n",
    "        event_type,\n",
    "        CAST(sum(amount) AS FLOAT64) AS total_amount\n",
    "    FROM\n",
    "        `oso_production.events_monthly_to_artifact`\n",
    "    WHERE bucket_month >= TIMESTAMP_SUB(CURRENT_TIMESTAMP(), INTERVAL 180 DAY)\n",
    "    GROUP BY 1,2\n",
    "    )\n",
    "    SELECT\n",
    "        repos.repo_url,\n",
    "        events.event_type,\n",
    "        events.total_amount\n",
    "    FROM repos\n",
    "    JOIN events\n",
    "        ON repos.artifact_id = events.artifact_id\n",
    "    WHERE repo_url IN ({stringify_array(projects)})\n",
    "\n",
    "    \"\"\"\n",
    "\n",
    "results = client.query(q)\n",
    "df = results.to_dataframe()"
   ]
  },
  {
   "cell_type": "code",
   "execution_count": 49,
   "metadata": {},
   "outputs": [
    {
     "name": "stderr",
     "output_type": "stream",
     "text": [
      "/home/jake/deepfunding/.venv/lib/python3.13/site-packages/google/cloud/bigquery/table.py:1820: UserWarning: BigQuery Storage module not found, fetch data with the REST endpoint instead.\n",
      "  warnings.warn(\n"
     ]
    },
    {
     "data": {
      "text/html": [
       "<div>\n",
       "<style scoped>\n",
       "    .dataframe tbody tr th:only-of-type {\n",
       "        vertical-align: middle;\n",
       "    }\n",
       "\n",
       "    .dataframe tbody tr th {\n",
       "        vertical-align: top;\n",
       "    }\n",
       "\n",
       "    .dataframe thead th {\n",
       "        text-align: right;\n",
       "    }\n",
       "</style>\n",
       "<table border=\"1\" class=\"dataframe\">\n",
       "  <thead>\n",
       "    <tr style=\"text-align: right;\">\n",
       "      <th></th>\n",
       "      <th>time</th>\n",
       "      <th>to_artifact_id</th>\n",
       "      <th>from_artifact_id</th>\n",
       "      <th>event_type</th>\n",
       "      <th>event_source_id</th>\n",
       "      <th>event_source</th>\n",
       "      <th>to_artifact_name</th>\n",
       "      <th>to_artifact_namespace</th>\n",
       "      <th>to_artifact_type</th>\n",
       "      <th>to_artifact_source_id</th>\n",
       "      <th>from_artifact_name</th>\n",
       "      <th>from_artifact_namespace</th>\n",
       "      <th>from_artifact_type</th>\n",
       "      <th>from_artifact_source_id</th>\n",
       "      <th>amount</th>\n",
       "    </tr>\n",
       "  </thead>\n",
       "  <tbody>\n",
       "    <tr>\n",
       "      <th>5</th>\n",
       "      <td>2018-01-08 18:03:04.439000+00:00</td>\n",
       "      <td>sq8PASwibu5FkLhTMbkQAtKrgiPSG0UWaz-5V2xJol8=</td>\n",
       "      <td>q3bfsbBdxyhRVbl-AjwDbCZbwUv5Op15Q7kdiSmiIaQ=</td>\n",
       "      <td>DEBIT</td>\n",
       "      <td>9026a88a-5c56-456f-b579-425af451e588</td>\n",
       "      <td>OPEN_COLLECTIVE</td>\n",
       "      <td>qubes os</td>\n",
       "      <td>qubes-os</td>\n",
       "      <td>COLLECTIVE</td>\n",
       "      <td>obvrgbk3-57l4x96e-4jpomewa-0jdyzn83</td>\n",
       "      <td>anonymous</td>\n",
       "      <td>anonymous103</td>\n",
       "      <td>INDIVIDUAL</td>\n",
       "      <td>rmvrwng4-kj03dpby-k0qz57oy-l9e8xbaj</td>\n",
       "      <td>64.27</td>\n",
       "    </tr>\n",
       "    <tr>\n",
       "      <th>6</th>\n",
       "      <td>2018-01-08 05:41:03.131000+00:00</td>\n",
       "      <td>bZaURi262iSe8-fyvYNCfS87l21__EysT51E1PIYKvc=</td>\n",
       "      <td>OSkBKkVtQ6s-34BlKYwNQOoVW5lgeCBbyZoS2QNtMks=</td>\n",
       "      <td>CREDIT</td>\n",
       "      <td>4da9fff4-97d5-4295-9fe4-ccdcee328961</td>\n",
       "      <td>OPEN_COLLECTIVE</td>\n",
       "      <td>spyder ide</td>\n",
       "      <td>spyder</td>\n",
       "      <td>COLLECTIVE</td>\n",
       "      <td>zzaxon79-3jy8gplg-e36brkde-mwl5v04o</td>\n",
       "      <td>anonymous</td>\n",
       "      <td>anonymous97</td>\n",
       "      <td>INDIVIDUAL</td>\n",
       "      <td>ggnxdwzj-3le5mpwo-ej6y8rvb-ko04a97b</td>\n",
       "      <td>50.00</td>\n",
       "    </tr>\n",
       "    <tr>\n",
       "      <th>7</th>\n",
       "      <td>2018-01-08 05:41:03.119000+00:00</td>\n",
       "      <td>bZaURi262iSe8-fyvYNCfS87l21__EysT51E1PIYKvc=</td>\n",
       "      <td>OSkBKkVtQ6s-34BlKYwNQOoVW5lgeCBbyZoS2QNtMks=</td>\n",
       "      <td>DEBIT</td>\n",
       "      <td>889c05bd-ce9b-4edc-8fa6-a84e459638c9</td>\n",
       "      <td>OPEN_COLLECTIVE</td>\n",
       "      <td>spyder ide</td>\n",
       "      <td>spyder</td>\n",
       "      <td>COLLECTIVE</td>\n",
       "      <td>zzaxon79-3jy8gplg-e36brkde-mwl5v04o</td>\n",
       "      <td>anonymous</td>\n",
       "      <td>anonymous97</td>\n",
       "      <td>INDIVIDUAL</td>\n",
       "      <td>ggnxdwzj-3le5mpwo-ej6y8rvb-ko04a97b</td>\n",
       "      <td>43.25</td>\n",
       "    </tr>\n",
       "    <tr>\n",
       "      <th>8</th>\n",
       "      <td>2018-01-08 18:40:47.247000+00:00</td>\n",
       "      <td>-8s1kBpLbP4YtApqkpwbXENaq92G__UWKp6Bvg6HzFc=</td>\n",
       "      <td>qxWLWbrXAHHDbDUgWUOt4uzzgo1iXVbmz-r510caIXs=</td>\n",
       "      <td>CREDIT</td>\n",
       "      <td>8e7fe603-0a89-4db8-9fbc-cc954a0a9531</td>\n",
       "      <td>OPEN_COLLECTIVE</td>\n",
       "      <td>streetmix</td>\n",
       "      <td>streetmix</td>\n",
       "      <td>COLLECTIVE</td>\n",
       "      <td>oeejoxl3-az45w9pa-9eqy870m-gkbrvdn8</td>\n",
       "      <td>cam solomon</td>\n",
       "      <td>cam-solomon</td>\n",
       "      <td>INDIVIDUAL</td>\n",
       "      <td>ggnxdwzj-3le5mpwo-4j6y8rvb-ko04a97b</td>\n",
       "      <td>10.00</td>\n",
       "    </tr>\n",
       "    <tr>\n",
       "      <th>9</th>\n",
       "      <td>2018-01-08 18:40:47.232000+00:00</td>\n",
       "      <td>-8s1kBpLbP4YtApqkpwbXENaq92G__UWKp6Bvg6HzFc=</td>\n",
       "      <td>qxWLWbrXAHHDbDUgWUOt4uzzgo1iXVbmz-r510caIXs=</td>\n",
       "      <td>DEBIT</td>\n",
       "      <td>28fc6f76-b866-44ea-9919-671641e66911</td>\n",
       "      <td>OPEN_COLLECTIVE</td>\n",
       "      <td>streetmix</td>\n",
       "      <td>streetmix</td>\n",
       "      <td>COLLECTIVE</td>\n",
       "      <td>oeejoxl3-az45w9pa-9eqy870m-gkbrvdn8</td>\n",
       "      <td>cam solomon</td>\n",
       "      <td>cam-solomon</td>\n",
       "      <td>INDIVIDUAL</td>\n",
       "      <td>ggnxdwzj-3le5mpwo-4j6y8rvb-ko04a97b</td>\n",
       "      <td>8.41</td>\n",
       "    </tr>\n",
       "  </tbody>\n",
       "</table>\n",
       "</div>"
      ],
      "text/plain": [
       "                              time  \\\n",
       "5 2018-01-08 18:03:04.439000+00:00   \n",
       "6 2018-01-08 05:41:03.131000+00:00   \n",
       "7 2018-01-08 05:41:03.119000+00:00   \n",
       "8 2018-01-08 18:40:47.247000+00:00   \n",
       "9 2018-01-08 18:40:47.232000+00:00   \n",
       "\n",
       "                                 to_artifact_id  \\\n",
       "5  sq8PASwibu5FkLhTMbkQAtKrgiPSG0UWaz-5V2xJol8=   \n",
       "6  bZaURi262iSe8-fyvYNCfS87l21__EysT51E1PIYKvc=   \n",
       "7  bZaURi262iSe8-fyvYNCfS87l21__EysT51E1PIYKvc=   \n",
       "8  -8s1kBpLbP4YtApqkpwbXENaq92G__UWKp6Bvg6HzFc=   \n",
       "9  -8s1kBpLbP4YtApqkpwbXENaq92G__UWKp6Bvg6HzFc=   \n",
       "\n",
       "                               from_artifact_id event_type  \\\n",
       "5  q3bfsbBdxyhRVbl-AjwDbCZbwUv5Op15Q7kdiSmiIaQ=      DEBIT   \n",
       "6  OSkBKkVtQ6s-34BlKYwNQOoVW5lgeCBbyZoS2QNtMks=     CREDIT   \n",
       "7  OSkBKkVtQ6s-34BlKYwNQOoVW5lgeCBbyZoS2QNtMks=      DEBIT   \n",
       "8  qxWLWbrXAHHDbDUgWUOt4uzzgo1iXVbmz-r510caIXs=     CREDIT   \n",
       "9  qxWLWbrXAHHDbDUgWUOt4uzzgo1iXVbmz-r510caIXs=      DEBIT   \n",
       "\n",
       "                        event_source_id     event_source to_artifact_name  \\\n",
       "5  9026a88a-5c56-456f-b579-425af451e588  OPEN_COLLECTIVE         qubes os   \n",
       "6  4da9fff4-97d5-4295-9fe4-ccdcee328961  OPEN_COLLECTIVE       spyder ide   \n",
       "7  889c05bd-ce9b-4edc-8fa6-a84e459638c9  OPEN_COLLECTIVE       spyder ide   \n",
       "8  8e7fe603-0a89-4db8-9fbc-cc954a0a9531  OPEN_COLLECTIVE        streetmix   \n",
       "9  28fc6f76-b866-44ea-9919-671641e66911  OPEN_COLLECTIVE        streetmix   \n",
       "\n",
       "  to_artifact_namespace to_artifact_type                to_artifact_source_id  \\\n",
       "5              qubes-os       COLLECTIVE  obvrgbk3-57l4x96e-4jpomewa-0jdyzn83   \n",
       "6                spyder       COLLECTIVE  zzaxon79-3jy8gplg-e36brkde-mwl5v04o   \n",
       "7                spyder       COLLECTIVE  zzaxon79-3jy8gplg-e36brkde-mwl5v04o   \n",
       "8             streetmix       COLLECTIVE  oeejoxl3-az45w9pa-9eqy870m-gkbrvdn8   \n",
       "9             streetmix       COLLECTIVE  oeejoxl3-az45w9pa-9eqy870m-gkbrvdn8   \n",
       "\n",
       "  from_artifact_name from_artifact_namespace from_artifact_type  \\\n",
       "5          anonymous            anonymous103         INDIVIDUAL   \n",
       "6          anonymous             anonymous97         INDIVIDUAL   \n",
       "7          anonymous             anonymous97         INDIVIDUAL   \n",
       "8        cam solomon             cam-solomon         INDIVIDUAL   \n",
       "9        cam solomon             cam-solomon         INDIVIDUAL   \n",
       "\n",
       "               from_artifact_source_id  amount  \n",
       "5  rmvrwng4-kj03dpby-k0qz57oy-l9e8xbaj   64.27  \n",
       "6  ggnxdwzj-3le5mpwo-ej6y8rvb-ko04a97b   50.00  \n",
       "7  ggnxdwzj-3le5mpwo-ej6y8rvb-ko04a97b   43.25  \n",
       "8  ggnxdwzj-3le5mpwo-4j6y8rvb-ko04a97b   10.00  \n",
       "9  ggnxdwzj-3le5mpwo-4j6y8rvb-ko04a97b    8.41  "
      ]
     },
     "execution_count": 49,
     "metadata": {},
     "output_type": "execute_result"
    }
   ],
   "source": [
    "q = f\"\"\"\n",
    "    SELECT\n",
    "        *\n",
    "    FROM  `oso_production.int_events`\n",
    "    --WHERE repo_artifact_id IN ('-FF6BVMZVV5G12UjcHMP9LpHMGZJNfzr0ykne9dsrcs=')\n",
    "    LIMIT 10\n",
    "    \"\"\"\n",
    "\n",
    "results = client.query(q)\n",
    "df = results.to_dataframe()\n",
    "df.tail()"
   ]
  },
  {
   "cell_type": "code",
   "execution_count": 52,
   "metadata": {},
   "outputs": [
    {
     "data": {
      "text/plain": [
       "['https://github.com/mochajs/mocha',\n",
       " 'https://github.com/chzyer/readline',\n",
       " 'https://github.com/gulpjs/gulp',\n",
       " 'https://github.com/webpack/webpack',\n",
       " 'https://github.com/redux-saga/redux-saga']"
      ]
     },
     "execution_count": 52,
     "metadata": {},
     "output_type": "execute_result"
    }
   ],
   "source": [
    "projects[:5]\n"
   ]
  },
  {
   "cell_type": "code",
   "execution_count": 55,
   "metadata": {},
   "outputs": [
    {
     "name": "stderr",
     "output_type": "stream",
     "text": [
      "/home/jake/deepfunding/.venv/lib/python3.13/site-packages/google/cloud/bigquery/table.py:1820: UserWarning: BigQuery Storage module not found, fetch data with the REST endpoint instead.\n",
      "  warnings.warn(\n"
     ]
    },
    {
     "data": {
      "text/html": [
       "<div>\n",
       "<style scoped>\n",
       "    .dataframe tbody tr th:only-of-type {\n",
       "        vertical-align: middle;\n",
       "    }\n",
       "\n",
       "    .dataframe tbody tr th {\n",
       "        vertical-align: top;\n",
       "    }\n",
       "\n",
       "    .dataframe thead th {\n",
       "        text-align: right;\n",
       "    }\n",
       "</style>\n",
       "<table border=\"1\" class=\"dataframe\">\n",
       "  <thead>\n",
       "    <tr style=\"text-align: right;\">\n",
       "      <th></th>\n",
       "      <th>time</th>\n",
       "      <th>to_artifact_id</th>\n",
       "      <th>from_artifact_id</th>\n",
       "      <th>event_type</th>\n",
       "      <th>event_source_id</th>\n",
       "      <th>event_source</th>\n",
       "      <th>issue_id</th>\n",
       "      <th>issue_number</th>\n",
       "      <th>created_at</th>\n",
       "      <th>merged_at</th>\n",
       "      <th>closed_at</th>\n",
       "      <th>comments</th>\n",
       "    </tr>\n",
       "  </thead>\n",
       "  <tbody>\n",
       "    <tr>\n",
       "      <th>995</th>\n",
       "      <td>2023-08-30 22:09:00+00:00</td>\n",
       "      <td>-ekQkLmq8I5Fc3rnAwDeZvi-XGumtxQlQF6_5z7Pajs=</td>\n",
       "      <td>iDEK2pJDr0Bzj_GsKgpRJ24eWRBJVWJlIaQjR1btdXw=</td>\n",
       "      <td>ISSUE_CLOSED</td>\n",
       "      <td>31492728507</td>\n",
       "      <td>GITHUB</td>\n",
       "      <td>TzJCSsBOLKRVWVRtBv2pgy0WhwwQZiIPUVc8r-RTdcM=</td>\n",
       "      <td>13</td>\n",
       "      <td>2023-08-06 06:55:13+00:00</td>\n",
       "      <td>NaT</td>\n",
       "      <td>2023-08-30 22:08:59+00:00</td>\n",
       "      <td>4</td>\n",
       "    </tr>\n",
       "    <tr>\n",
       "      <th>996</th>\n",
       "      <td>2023-11-29 17:23:17+00:00</td>\n",
       "      <td>-ekQkLmq8I5Fc3rnAwDeZvi-XGumtxQlQF6_5z7Pajs=</td>\n",
       "      <td>gl7urTu544OCLKVxV5lXGhGgbJkoPl7JGlYVfh0qYDw=</td>\n",
       "      <td>ISSUE_COMMENT</td>\n",
       "      <td>33727171406</td>\n",
       "      <td>GITHUB</td>\n",
       "      <td>DKyUg86I6kbI12dcQ0qDXkOG-Zb7MNA8N4qiCyxUCJE=</td>\n",
       "      <td>41</td>\n",
       "      <td>2023-11-29 16:08:06+00:00</td>\n",
       "      <td>NaT</td>\n",
       "      <td>NaT</td>\n",
       "      <td>5</td>\n",
       "    </tr>\n",
       "    <tr>\n",
       "      <th>997</th>\n",
       "      <td>2023-08-23 16:39:23+00:00</td>\n",
       "      <td>-ekQkLmq8I5Fc3rnAwDeZvi-XGumtxQlQF6_5z7Pajs=</td>\n",
       "      <td>rY1CWSWpe6CyDJSZIMSvh4nWoydxUzitzEKmQJ4G1-Q=</td>\n",
       "      <td>PULL_REQUEST_MERGED</td>\n",
       "      <td>1486734671</td>\n",
       "      <td>GITHUB</td>\n",
       "      <td>t5pNOYbYwtB8Y4YWffhlv3Mtdt0ujbOgpVuDW0Xs-og=</td>\n",
       "      <td>20</td>\n",
       "      <td>2023-08-23 16:39:23+00:00</td>\n",
       "      <td>2023-08-25 22:30:32+00:00</td>\n",
       "      <td>2023-08-25 22:30:32+00:00</td>\n",
       "      <td>0</td>\n",
       "    </tr>\n",
       "    <tr>\n",
       "      <th>998</th>\n",
       "      <td>2024-09-09 23:19:54+00:00</td>\n",
       "      <td>-fFLbGpqSm-CdAuhjSP-XN32foUjGUHmSCriv91ARE0=</td>\n",
       "      <td>0ykkTNnozNS0rvasx6ujldAf9C-hlZBN1ryn1mzq1b8=</td>\n",
       "      <td>PULL_REQUEST_MERGED</td>\n",
       "      <td>2062122603</td>\n",
       "      <td>GITHUB</td>\n",
       "      <td>KrzJ5Gqont7VJHWyHGiMbR1anNN39xHlrWdnWr4zA1k=</td>\n",
       "      <td>25</td>\n",
       "      <td>2024-09-09 23:19:54+00:00</td>\n",
       "      <td>2024-09-09 23:25:07+00:00</td>\n",
       "      <td>2024-09-09 23:25:07+00:00</td>\n",
       "      <td>0</td>\n",
       "    </tr>\n",
       "    <tr>\n",
       "      <th>999</th>\n",
       "      <td>2024-08-21 02:26:39+00:00</td>\n",
       "      <td>-fFLbGpqSm-CdAuhjSP-XN32foUjGUHmSCriv91ARE0=</td>\n",
       "      <td>kLNI82Fp3Dv6hyNVH9xW7pUL5HqI-N5sNHixH-6OenY=</td>\n",
       "      <td>PULL_REQUEST_OPENED</td>\n",
       "      <td>41195081128</td>\n",
       "      <td>GITHUB</td>\n",
       "      <td>01q_lMlP5b5jOiwPQcqP4wuj4yF46iGlA4kgXoEw_PI=</td>\n",
       "      <td>22</td>\n",
       "      <td>2024-08-21 02:26:38+00:00</td>\n",
       "      <td>NaT</td>\n",
       "      <td>NaT</td>\n",
       "      <td>0</td>\n",
       "    </tr>\n",
       "  </tbody>\n",
       "</table>\n",
       "</div>"
      ],
      "text/plain": [
       "                         time                                to_artifact_id  \\\n",
       "995 2023-08-30 22:09:00+00:00  -ekQkLmq8I5Fc3rnAwDeZvi-XGumtxQlQF6_5z7Pajs=   \n",
       "996 2023-11-29 17:23:17+00:00  -ekQkLmq8I5Fc3rnAwDeZvi-XGumtxQlQF6_5z7Pajs=   \n",
       "997 2023-08-23 16:39:23+00:00  -ekQkLmq8I5Fc3rnAwDeZvi-XGumtxQlQF6_5z7Pajs=   \n",
       "998 2024-09-09 23:19:54+00:00  -fFLbGpqSm-CdAuhjSP-XN32foUjGUHmSCriv91ARE0=   \n",
       "999 2024-08-21 02:26:39+00:00  -fFLbGpqSm-CdAuhjSP-XN32foUjGUHmSCriv91ARE0=   \n",
       "\n",
       "                                 from_artifact_id           event_type  \\\n",
       "995  iDEK2pJDr0Bzj_GsKgpRJ24eWRBJVWJlIaQjR1btdXw=         ISSUE_CLOSED   \n",
       "996  gl7urTu544OCLKVxV5lXGhGgbJkoPl7JGlYVfh0qYDw=        ISSUE_COMMENT   \n",
       "997  rY1CWSWpe6CyDJSZIMSvh4nWoydxUzitzEKmQJ4G1-Q=  PULL_REQUEST_MERGED   \n",
       "998  0ykkTNnozNS0rvasx6ujldAf9C-hlZBN1ryn1mzq1b8=  PULL_REQUEST_MERGED   \n",
       "999  kLNI82Fp3Dv6hyNVH9xW7pUL5HqI-N5sNHixH-6OenY=  PULL_REQUEST_OPENED   \n",
       "\n",
       "    event_source_id event_source  \\\n",
       "995     31492728507       GITHUB   \n",
       "996     33727171406       GITHUB   \n",
       "997      1486734671       GITHUB   \n",
       "998      2062122603       GITHUB   \n",
       "999     41195081128       GITHUB   \n",
       "\n",
       "                                         issue_id issue_number  \\\n",
       "995  TzJCSsBOLKRVWVRtBv2pgy0WhwwQZiIPUVc8r-RTdcM=           13   \n",
       "996  DKyUg86I6kbI12dcQ0qDXkOG-Zb7MNA8N4qiCyxUCJE=           41   \n",
       "997  t5pNOYbYwtB8Y4YWffhlv3Mtdt0ujbOgpVuDW0Xs-og=           20   \n",
       "998  KrzJ5Gqont7VJHWyHGiMbR1anNN39xHlrWdnWr4zA1k=           25   \n",
       "999  01q_lMlP5b5jOiwPQcqP4wuj4yF46iGlA4kgXoEw_PI=           22   \n",
       "\n",
       "                   created_at                 merged_at  \\\n",
       "995 2023-08-06 06:55:13+00:00                       NaT   \n",
       "996 2023-11-29 16:08:06+00:00                       NaT   \n",
       "997 2023-08-23 16:39:23+00:00 2023-08-25 22:30:32+00:00   \n",
       "998 2024-09-09 23:19:54+00:00 2024-09-09 23:25:07+00:00   \n",
       "999 2024-08-21 02:26:38+00:00                       NaT   \n",
       "\n",
       "                    closed_at comments  \n",
       "995 2023-08-30 22:08:59+00:00        4  \n",
       "996                       NaT        5  \n",
       "997 2023-08-25 22:30:32+00:00        0  \n",
       "998 2024-09-09 23:25:07+00:00        0  \n",
       "999                       NaT        0  "
      ]
     },
     "execution_count": 55,
     "metadata": {},
     "output_type": "execute_result"
    }
   ],
   "source": [
    "q = f\"\"\"\n",
    "    SELECT\n",
    "        *\n",
    "    FROM  `oso_production.timeseries_events_aux_issues_by_artifact_v0`\n",
    "    --WHERE artifact_url IN ({stringify_array(projects)})\n",
    "    LIMIT 1000\n",
    "    \"\"\"\n",
    "\n",
    "results = client.query(q)\n",
    "df = results.to_dataframe()\n",
    "df.tail()"
   ]
  },
  {
   "cell_type": "code",
   "execution_count": 36,
   "metadata": {},
   "outputs": [],
   "source": [
    "def get_repo_activity(urls):\n",
    "    \n",
    "    q = f\"\"\"\n",
    "    WITH repos as(\n",
    "    SELECT\n",
    "        artifact_id,\n",
    "        artifact_url AS repo_url,\n",
    "    FROM\n",
    "        `oso_production.repositories_v0`\n",
    "    ),\n",
    "    events as(\n",
    "    SELECT\n",
    "        artifact_id,\n",
    "        event_type,\n",
    "        CAST(sum(amount) AS FLOAT64) AS total_amount\n",
    "    FROM\n",
    "        `oso_production.events_monthly_to_artifact`\n",
    "    WHERE bucket_month >= TIMESTAMP_SUB(CURRENT_TIMESTAMP(), INTERVAL 180 DAY)\n",
    "    GROUP BY 1,2\n",
    "    )\n",
    "    SELECT\n",
    "        repos.repo_url,\n",
    "        events.event_type,\n",
    "        events.total_amount\n",
    "    FROM repos\n",
    "    JOIN events\n",
    "        ON repos.artifact_id = events.artifact_id\n",
    "    WHERE repo_url IN ({stringify_array(urls)})\n",
    "\n",
    "    \"\"\"\n",
    "\n",
    "    results = client.query(q)\n",
    "    df = results.to_dataframe()\n",
    "    df_pivot = df.pivot_table(index=['repo_url'], columns='event_type', values='total_amount', fill_value=0)\n",
    "    df_pivot.reset_index(inplace=True)\n",
    "    df_pivot.to_csv(f\"{raw_path}/github-activity.csv\", index=False)\n",
    "    return df_pivot"
   ]
  },
  {
   "cell_type": "code",
   "execution_count": 37,
   "metadata": {},
   "outputs": [
    {
     "name": "stderr",
     "output_type": "stream",
     "text": [
      "/home/jake/deepfunding/.venv/lib/python3.13/site-packages/google/cloud/bigquery/table.py:1820: UserWarning: BigQuery Storage module not found, fetch data with the REST endpoint instead.\n",
      "  warnings.warn(\n"
     ]
    }
   ],
   "source": [
    "df_act = get_repo_activity(projects)"
   ]
  },
  {
   "cell_type": "code",
   "execution_count": 38,
   "metadata": {},
   "outputs": [
    {
     "name": "stdout",
     "output_type": "stream",
     "text": [
      "Nodes: 5235\n",
      "Edges: 17367\n"
     ]
    },
    {
     "name": "stderr",
     "output_type": "stream",
     "text": [
      "/home/jake/deepfunding/.venv/lib/python3.13/site-packages/networkx/readwrite/json_graph/node_link.py:287: FutureWarning: \n",
      "The default value will be changed to `edges=\"edges\" in NetworkX 3.6.\n",
      "\n",
      "To make this warning go away, explicitly set the edges kwarg, e.g.:\n",
      "\n",
      "  nx.node_link_graph(data, edges=\"links\") to preserve current behavior, or\n",
      "  nx.node_link_graph(data, edges=\"edges\") for forward compatibility.\n",
      "  warnings.warn(\n"
     ]
    }
   ],
   "source": [
    "with open(\"unweighted_graph.json\", 'r') as f:\n",
    "    graph_data = json.load(f)\n",
    "\n",
    "G_original = nx.node_link_graph(graph_data)\n",
    "print(\"Nodes:\", len(G_original.nodes))\n",
    "repo_urls = [x for x in G_original.nodes]\n",
    "print(\"Edges:\", len(G_original.edges))"
   ]
  },
  {
   "cell_type": "code",
   "execution_count": 39,
   "metadata": {},
   "outputs": [],
   "source": [
    "def get_repo_metrics_and_metadata(urls):\n",
    "    query = f\"\"\"\n",
    "    WITH repos AS (\n",
    "    SELECT *\n",
    "    FROM `oso_production.repositories_v0`\n",
    "    ),\n",
    "    package_owners AS (\n",
    "    SELECT\n",
    "        package_owner_artifact_id,\n",
    "        package_artifact_source,\n",
    "        package_artifact_name,\n",
    "        CONCAT(package_artifact_source, '/', package_artifact_name) AS package_tag\n",
    "    FROM `oso_production.package_owners_v0`\n",
    "    WHERE package_owner_artifact_id IN (SELECT artifact_id FROM repos)\n",
    "    ),\n",
    "    oso_dependents AS (\n",
    "    SELECT\n",
    "        package_owners.package_owner_artifact_id,\n",
    "        COUNT(DISTINCT package_owners.package_tag) AS num_packages,\n",
    "        COUNT(DISTINCT sboms.from_artifact_namespace) AS num_dependents_in_oso,\n",
    "        ARRAY_AGG(DISTINCT package_owners.package_tag) AS list_of_packages,\n",
    "        ARRAY_AGG(DISTINCT sboms.from_artifact_namespace) AS list_of_dependents_in_oso\n",
    "    FROM `oso_production.sboms_v0` AS sboms\n",
    "    JOIN package_owners\n",
    "        ON sboms.to_package_artifact_name = package_owners.package_artifact_name\n",
    "        AND sboms.to_package_artifact_source = package_owners.package_artifact_source\n",
    "    GROUP BY 1\n",
    "    ),\n",
    "    grants AS (\n",
    "    SELECT\n",
    "        funding.to_project_id AS project_id,\n",
    "        ARRAY_AGG(DISTINCT projects.display_name) AS list_of_funders,\n",
    "        SUM(funding.amount) AS total_funding_usd,\n",
    "        SUM(CASE WHEN funding.time > '2023-01-01' THEN funding.amount ELSE 0 END) AS total_funding_usd_since_2023\n",
    "    FROM `oso_production.oss_funding_v0` AS funding\n",
    "    JOIN `oso_production.projects_v1` AS projects\n",
    "        ON funding.from_project_id = projects.project_id\n",
    "    WHERE funding.from_project_name IN ('gitcoin', 'octant-golemfoundation', 'opencollective', 'optimism')\n",
    "    GROUP BY 1\n",
    "    ),\n",
    "    combined AS (\n",
    "    SELECT\n",
    "        repos.artifact_url AS repo_url,\n",
    "        repos.artifact_namespace AS maintainer,\n",
    "        repos.language,\n",
    "        repos.is_fork,\n",
    "        DATE(repos.created_at) as created_at,\n",
    "        DATE(repos.updated_at) as updated_at,\n",
    "        repos.star_count,\n",
    "        repos.fork_count,\n",
    "        COALESCE(oso_dependents.num_packages, 0) AS num_packages,\n",
    "        COALESCE(oso_dependents.num_dependents_in_oso, 0) AS num_dependents_in_oso,\n",
    "        oso_dependents.list_of_dependents_in_oso,\n",
    "        oso_dependents.list_of_packages,\n",
    "        grants.list_of_funders,\n",
    "        COALESCE(grants.total_funding_usd, 0) AS total_funding_usd,\n",
    "        COALESCE(grants.total_funding_usd_since_2023, 0) AS total_funding_usd_since_2023\n",
    "    FROM repos\n",
    "    LEFT JOIN oso_dependents\n",
    "        ON repos.artifact_id = oso_dependents.package_owner_artifact_id\n",
    "    LEFT JOIN grants\n",
    "        ON repos.project_id = grants.project_id\n",
    "    )\n",
    "    SELECT\n",
    "    *,\n",
    "    PERCENT_RANK() OVER (ORDER BY num_dependents_in_oso) AS oso_dependency_rank,\n",
    "    COUNT(*) OVER (PARTITION BY language) AS num_repos_in_same_language,\n",
    "    PERCENT_RANK() OVER (PARTITION BY language ORDER BY num_dependents_in_oso) AS oso_dependency_rank_for_language\n",
    "    FROM combined\n",
    "    WHERE repo_url IN ({stringify_array(repo_urls)})\n",
    "\n",
    "    \"\"\"\n",
    "\n",
    "    # execute the query and save it\n",
    "    results = client.query(query)\n",
    "    df = results.to_dataframe()\n",
    "    df.to_csv(f\"{raw_path}/repo_metrics_and_metadata.csv\")\n",
    "    print(\"Query saved to local csv file.\")\n",
    " \n",
    "    return df\n"
   ]
  },
  {
   "cell_type": "code",
   "execution_count": 40,
   "metadata": {},
   "outputs": [
    {
     "name": "stderr",
     "output_type": "stream",
     "text": [
      "/home/jake/deepfunding/.venv/lib/python3.13/site-packages/google/cloud/bigquery/table.py:1820: UserWarning: BigQuery Storage module not found, fetch data with the REST endpoint instead.\n",
      "  warnings.warn(\n"
     ]
    },
    {
     "name": "stdout",
     "output_type": "stream",
     "text": [
      "Query saved to local csv file.\n"
     ]
    }
   ],
   "source": [
    "df_repo = get_repo_metrics_and_metadata(repo_urls)"
   ]
  },
  {
   "cell_type": "code",
   "execution_count": 41,
   "metadata": {},
   "outputs": [],
   "source": [
    "def get_dependent_repos_in_OSO():\n",
    "  query = \"\"\"\n",
    "  select\n",
    "    p.project_id,\n",
    "    pkgs.package_artifact_source,\n",
    "    pkgs.package_artifact_name,\n",
    "    count(distinct sboms.from_project_id) as num_dependents\n",
    "  from `oso_production.package_owners_v0` pkgs\n",
    "  join `oso_production.sboms_v0` sboms\n",
    "    on pkgs.package_artifact_name = sboms.to_package_artifact_name\n",
    "    and pkgs.package_artifact_source = sboms.to_package_artifact_source\n",
    "  join `oso_production.projects_v1` p\n",
    "    on pkgs.package_owner_project_id = p.project_id\n",
    "  where pkgs.package_owner_project_id is not null\n",
    "  group by 1,2,3\n",
    "  order by 4 desc\n",
    "  \"\"\"\n",
    "\n",
    "  results = client.query(query)\n",
    "  df = results.to_dataframe()\n",
    "  df.to_csv(f\"{raw_path}/dependent-metrics.csv\")\n",
    "  print(\"Query saved to local csv file.\")\n",
    "  \n",
    "  return df"
   ]
  },
  {
   "cell_type": "code",
   "execution_count": 42,
   "metadata": {},
   "outputs": [
    {
     "name": "stderr",
     "output_type": "stream",
     "text": [
      "/home/jake/deepfunding/.venv/lib/python3.13/site-packages/google/cloud/bigquery/table.py:1820: UserWarning: BigQuery Storage module not found, fetch data with the REST endpoint instead.\n",
      "  warnings.warn(\n"
     ]
    },
    {
     "name": "stdout",
     "output_type": "stream",
     "text": [
      "Query saved to local csv file.\n"
     ]
    }
   ],
   "source": [
    "df_dependent = get_dependent_repos_in_OSO()"
   ]
  },
  {
   "cell_type": "code",
   "execution_count": null,
   "metadata": {},
   "outputs": [],
   "source": []
  }
 ],
 "metadata": {
  "kernelspec": {
   "display_name": ".venv",
   "language": "python",
   "name": "python3"
  },
  "language_info": {
   "codemirror_mode": {
    "name": "ipython",
    "version": 3
   },
   "file_extension": ".py",
   "mimetype": "text/x-python",
   "name": "python",
   "nbconvert_exporter": "python",
   "pygments_lexer": "ipython3",
   "version": "3.13.1"
  }
 },
 "nbformat": 4,
 "nbformat_minor": 2
}
