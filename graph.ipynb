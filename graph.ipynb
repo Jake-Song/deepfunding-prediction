{
 "cells": [
  {
   "cell_type": "code",
   "execution_count": 1,
   "metadata": {},
   "outputs": [],
   "source": [
    "import networkx as nx\n",
    "import matplotlib.pyplot as plt\n",
    "\n"
   ]
  },
  {
   "cell_type": "code",
   "execution_count": 2,
   "metadata": {},
   "outputs": [],
   "source": [
    "ITEMS = {\n",
    "    \"Bitcoin's monetary philosophy\": [\n",
    "        \"Austrian Economics / sound money advocacy (Mises, Hayek, Rothbard)\",\n",
    "        \"Free currency competition / denationalization of money (eg. Hayek)\",\n",
    "        \"Libertarian minarchism and anarchism (Rothbard, Nozick, Rand)\",\n",
    "        \"Monetarism (eg. Milton Friedman)\",\n",
    "        \"Keynesian monetary theory\",\n",
    "        \"Labor theory of value (eg. Marx)\"\n",
    "    ],\n",
    "    \"Cypherpunk Movement\": [\n",
    "        \"Libertarian minarchism and anarchism (Rothbard, Nozick, Rand)\",\n",
    "        \"Cryptographic Pioneers (Diffie, Hellman, Zimmermann, Chaum)\",\n",
    "        \"Cyberpunk Literature (eg. Gibson’s Neuromancer, Neal Stephenson)\",\n",
    "        \"Hacker Ethics (eg. Levy's Hackers)\",\n",
    "        \"Institutional privacy advocacy (eg. EFF)\",\n",
    "        \"Cryptoanarchism (eg. Tim May's manifesto, JP Barlow's declaration)\",\n",
    "        \"Swiss direct democracy\",\n",
    "    ],\n",
    "    \"Free/Open Source Software (FOSS)\": [\n",
    "        \"Hacker Ethics (eg. Levy's Hackers)\",\n",
    "        \"Free Software Foundation (Stallman’s GNU Manifesto)\",\n",
    "        \"Open Source Initiative (Raymond’s The Cathedral and the Bazaar)\",\n",
    "        \"Unix Philosophy (modularity, simplicity)\",\n",
    "        \"Commons-Based Peer Production (Benkler)\",\n",
    "        \"Wikipedia and other early-2000s online collaborations\",\n",
    "    ],\n",
    "    \"Decentralized Governance / DAOs\": [\n",
    "        \"Left-Anarchist Political Theory (eg. Proudhon, Bakunin)\",\n",
    "        \"Elinor Ostrom's Commons Governance\",\n",
    "        \"Cybernetics (eg. Stafford Beer’s Viable System Model)\",\n",
    "        \"Daemon (Daniel Suarez)\",\n",
    "        \"Wikipedia and other early-2000s online collaborations\",\n",
    "        \"Participatory Democracy (Bookchin’s Communalism)\",\n",
    "        \"Swiss direct democracy\",\n",
    "        \"Medieval feudal governance models\"\n",
    "    ],\n",
    "    \"Mechanism Design & Game Theory\": [\n",
    "        \"Nash Equilibrium (John Nash)\",\n",
    "        \"Early Mechanism Design Theory (Hurwicz, Maskin, Myerson)\",\n",
    "        \"Cooperative Game Theory (eg. Shapley values)\",\n",
    "        \"Schelling Points (Thomas Schelling, 1960)\",\n",
    "        \"Transaction cost theory (eg. Coase)\"\n",
    "    ],\n",
    "    \"Techno-Progressivism\": [\n",
    "        \"Transhumanism (Bostrom, Kurzweil)\",\n",
    "        \"Cyberpunk Literature (eg. Gibson’s Neuromancer, Neal Stephenson)\",\n",
    "        \"Decentralized Web Ideals (eg. Berners-Lee)\",\n",
    "        \"Accelerationism (eg. Nick Land)\",\n",
    "        \"Post-scarcity economy ideas\"\n",
    "    ]\n",
    "}"
   ]
  },
  {
   "cell_type": "code",
   "execution_count": 3,
   "metadata": {},
   "outputs": [],
   "source": [
    "GRAPH = {\n",
    "    item: {\n",
    "        \"self\": None,\n",
    "        \"dependencies\": {\n",
    "            value: None\n",
    "            for value in values\n",
    "        }\n",
    "    }\n",
    "    for item, values in ITEMS.items()\n",
    "}"
   ]
  },
  {
   "cell_type": "code",
   "execution_count": 11,
   "metadata": {},
   "outputs": [
    {
     "data": {
      "text/plain": [
       "{\"Bitcoin's monetary philosophy\": {'self': None,\n",
       "  'dependencies': {'Austrian Economics / sound money advocacy (Mises, Hayek, Rothbard)': None,\n",
       "   'Free currency competition / denationalization of money (eg. Hayek)': None,\n",
       "   'Libertarian minarchism and anarchism (Rothbard, Nozick, Rand)': None,\n",
       "   'Monetarism (eg. Milton Friedman)': None,\n",
       "   'Keynesian monetary theory': None,\n",
       "   'Labor theory of value (eg. Marx)': None}},\n",
       " 'Cypherpunk Movement': {'self': None,\n",
       "  'dependencies': {'Libertarian minarchism and anarchism (Rothbard, Nozick, Rand)': None,\n",
       "   'Cryptographic Pioneers (Diffie, Hellman, Zimmermann, Chaum)': None,\n",
       "   'Cyberpunk Literature (eg. Gibson’s Neuromancer, Neal Stephenson)': None,\n",
       "   \"Hacker Ethics (eg. Levy's Hackers)\": None,\n",
       "   'Institutional privacy advocacy (eg. EFF)': None,\n",
       "   \"Cryptoanarchism (eg. Tim May's manifesto, JP Barlow's declaration)\": None,\n",
       "   'Swiss direct democracy': None}},\n",
       " 'Free/Open Source Software (FOSS)': {'self': None,\n",
       "  'dependencies': {\"Hacker Ethics (eg. Levy's Hackers)\": None,\n",
       "   'Free Software Foundation (Stallman’s GNU Manifesto)': None,\n",
       "   'Open Source Initiative (Raymond’s The Cathedral and the Bazaar)': None,\n",
       "   'Unix Philosophy (modularity, simplicity)': None,\n",
       "   'Commons-Based Peer Production (Benkler)': None,\n",
       "   'Wikipedia and other early-2000s online collaborations': None}},\n",
       " 'Decentralized Governance / DAOs': {'self': None,\n",
       "  'dependencies': {'Left-Anarchist Political Theory (eg. Proudhon, Bakunin)': None,\n",
       "   \"Elinor Ostrom's Commons Governance\": None,\n",
       "   'Cybernetics (eg. Stafford Beer’s Viable System Model)': None,\n",
       "   'Daemon (Daniel Suarez)': None,\n",
       "   'Wikipedia and other early-2000s online collaborations': None,\n",
       "   'Participatory Democracy (Bookchin’s Communalism)': None,\n",
       "   'Swiss direct democracy': None,\n",
       "   'Medieval feudal governance models': None}},\n",
       " 'Mechanism Design & Game Theory': {'self': None,\n",
       "  'dependencies': {'Nash Equilibrium (John Nash)': None,\n",
       "   'Early Mechanism Design Theory (Hurwicz, Maskin, Myerson)': None,\n",
       "   'Cooperative Game Theory (eg. Shapley values)': None,\n",
       "   'Schelling Points (Thomas Schelling, 1960)': None,\n",
       "   'Transaction cost theory (eg. Coase)': None}},\n",
       " 'Techno-Progressivism': {'self': None,\n",
       "  'dependencies': {'Transhumanism (Bostrom, Kurzweil)': None,\n",
       "   'Cyberpunk Literature (eg. Gibson’s Neuromancer, Neal Stephenson)': None,\n",
       "   'Decentralized Web Ideals (eg. Berners-Lee)': None,\n",
       "   'Accelerationism (eg. Nick Land)': None,\n",
       "   'Post-scarcity economy ideas': None}}}"
      ]
     },
     "execution_count": 11,
     "metadata": {},
     "output_type": "execute_result"
    }
   ],
   "source": [
    "GRAPH"
   ]
  },
  {
   "cell_type": "code",
   "execution_count": null,
   "metadata": {},
   "outputs": [],
   "source": []
  }
 ],
 "metadata": {
  "kernelspec": {
   "display_name": ".venv",
   "language": "python",
   "name": "python3"
  },
  "language_info": {
   "codemirror_mode": {
    "name": "ipython",
    "version": 3
   },
   "file_extension": ".py",
   "mimetype": "text/x-python",
   "name": "python",
   "nbconvert_exporter": "python",
   "pygments_lexer": "ipython3",
   "version": "3.13.1"
  }
 },
 "nbformat": 4,
 "nbformat_minor": 2
}
