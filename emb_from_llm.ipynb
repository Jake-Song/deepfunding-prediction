{
 "cells": [
  {
   "cell_type": "code",
   "execution_count": 2,
   "metadata": {},
   "outputs": [],
   "source": [
    "from dotenv import load_dotenv\n",
    "load_dotenv()\n",
    "from openai import OpenAI\n",
    "client = OpenAI()"
   ]
  },
  {
   "cell_type": "code",
   "execution_count": 3,
   "metadata": {},
   "outputs": [],
   "source": [
    "embedding_model = \"text-embedding-3-small\"\n",
    "embedding_encoding = \"cl100k_base\"\n",
    "max_tokens = 8000  # the maximum for text-embedding-3-small is 8191\n",
    "\n",
    "def get_embedding(text, model=\"text-embedding-3-small\", **kwargs):\n",
    "    # replace newlines, which can negatively affect performance.\n",
    "    text = text.replace(\"\\n\", \" \")\n",
    "    response = client.embeddings.create(input=[text], model=model, **kwargs)\n",
    "    return response.data[0].embedding"
   ]
  },
  {
   "cell_type": "code",
   "execution_count": 4,
   "metadata": {},
   "outputs": [],
   "source": [
    "def get_gpt_overview(project_name):\n",
    "    response = client.chat.completions.create(\n",
    "        model=\"gpt-4o-mini\",\n",
    "        messages=[\n",
    "            {\n",
    "                \"role\": \"developer\", \n",
    "                \"content\": \"\"\"\n",
    "                    When giving an overview of open-source projects, it often helps to categorize them in a way that captures their purpose, governance, maturity, and ecosystem. Below are some common categories you might use:\n",
    "\n",
    "    1. By Function or Domain\n",
    "    Operating Systems: Linux distributions, BSD variants, etc.\n",
    "    Developer Tools & Frameworks: Compilers, build tools, programming libraries, web frameworks, etc.\n",
    "    Infrastructure & Cloud: Container runtimes (Docker, containerd), orchestration tools (Kubernetes), server management (Ansible, Terraform).\n",
    "    Data & Analytics: Databases (PostgreSQL, MySQL), data processing frameworks (Apache Spark, Hadoop), machine learning libraries (TensorFlow, PyTorch).\n",
    "    Desktop & End-User Applications: Web browsers (Firefox), office suites (LibreOffice), multimedia tools (VLC), etc.\n",
    "    Security Tools: Encryption libraries (OpenSSL), vulnerability scanners (OpenVAS), intrusion detection systems (Snort).\n",
    "    This helps you group projects by what they do and who might use them.\n",
    "\n",
    "    2. By Licensing Model\n",
    "    Permissive: MIT, Apache 2.0, BSD—allow broad usage and fewer redistribution restrictions.\n",
    "    Copyleft: GPL, AGPL, LGPL—require derivative works to remain open-source under the same license.\n",
    "    Mixed / Multi-License: Projects offering both open-source and commercial licenses (e.g., “open-core” model).\n",
    "    License choice can affect community building, commercial adoption, and contribution models.\n",
    "\n",
    "    3. By Governance & Sponsorship\n",
    "    Community-Driven: Maintained by volunteers and community contributors (e.g., GIMP, Inkscape).\n",
    "    Vendor-Driven: Backed or originated by a single company (e.g., Elastic, HashiCorp tools).\n",
    "    Foundation-Governed: Operated under a formal open-source foundation (e.g., Apache, Eclipse, Linux Foundation).\n",
    "    Governance type impacts how decisions are made, how contributions are processed, and how stable the project’s future is.\n",
    "\n",
    "    4. By Project Maturity & Lifecycle\n",
    "    Early-Stage: Experimental or alpha-stage projects with limited functionality or unstable APIs.\n",
    "    Growth-Stage: Active community, regular releases, expanding feature set.\n",
    "    Mature / Established: Widely used, stable APIs, well-documented processes.\n",
    "    Maintenance / Legacy: Low feature development, mainly security patches or minimal updates.\n",
    "    Archived / Dormant: No longer actively maintained or supported.\n",
    "    This categorization shows how actively a project is developed and whether it’s ready for production usage.\n",
    "\n",
    "    5. By Community Size & Activity\n",
    "    Small / Niche: One or a few core maintainers, specialized focus.\n",
    "    Medium: Moderate contributor base, stable user community, some commercial interest.\n",
    "    Large / Widely Adopted: Hundreds (or thousands) of contributors, global user base, possibly enterprise-level support.\n",
    "    Understanding community size helps gauge sustainability and support prospects.\n",
    "\n",
    "    6. By Technical Stack or Ecosystem\n",
    "    Language-Based Ecosystems: Python libraries vs. Java libraries vs. Node.js packages, etc.\n",
    "    Platform-Focused: Android, iOS, or cross-platform.\n",
    "    Cloud & DevOps Toolchains: AWS ecosystem, Kubernetes ecosystem, CI/CD pipelines, etc.\n",
    "    Projects often cluster around particular languages or platforms—important for developers choosing compatible solutions.\n",
    "\n",
    "    Putting It All Together\n",
    "    When giving an overview, you can mix and match these categories to provide a multi-dimensional perspective. For example, you might focus on function/domain first (say, “big data” vs. “developer tooling”), then look at maturity (“active and well-supported vs. brand new beta”), and discuss governance (“foundation-backed vs. vendor-driven”). This framework helps audiences quickly grasp a project’s purpose, community structure, and viability in one cohesive overview.\n",
    "\n",
    "    based on the above contents, give an overview of projects asked by the user.\n",
    "                \"\"\"\n",
    "            },\n",
    "            {\n",
    "                \"role\": \"user\", \n",
    "                \"content\": f\"give an overview of '{project_name}'\"\n",
    "            }\n",
    "        ],\n",
    "        \n",
    "    )\n",
    "\n",
    "    return response.choices[0].message.content\n",
    "\n"
   ]
  },
  {
   "cell_type": "code",
   "execution_count": 5,
   "metadata": {},
   "outputs": [],
   "source": [
    "def get_project_overview(projects):\n",
    "    arr = []\n",
    "    for project in projects:\n",
    "        data = {\n",
    "            'project_name': project,\n",
    "            'overview': get_gpt_overview(project)\n",
    "        }\n",
    "        arr.append(data)\n",
    "    return arr"
   ]
  },
  {
   "cell_type": "code",
   "execution_count": 6,
   "metadata": {},
   "outputs": [],
   "source": [
    "import pandas as pd\n",
    "from pathlib import Path\n",
    "\n",
    "part_path = Path(\"part-1\")"
   ]
  },
  {
   "cell_type": "code",
   "execution_count": 7,
   "metadata": {},
   "outputs": [],
   "source": [
    "df_train = pd.read_csv(part_path / \"train.csv\")\n",
    "df_test = pd.read_csv(part_path / \"test.csv\")"
   ]
  },
  {
   "cell_type": "code",
   "execution_count": 8,
   "metadata": {},
   "outputs": [],
   "source": [
    "projects = pd.concat([\n",
    "    df_train['project_a'],\n",
    "    df_train['project_b'],\n",
    "    df_test['project_a'],\n",
    "    df_test['project_b']\n",
    "]).unique().tolist()"
   ]
  },
  {
   "cell_type": "code",
   "execution_count": 9,
   "metadata": {},
   "outputs": [
    {
     "data": {
      "text/plain": [
       "['https://github.com/prettier-solidity/prettier-plugin-solidity',\n",
       " 'https://github.com/prysmaticlabs/prysm',\n",
       " 'https://github.com/sigp/lighthouse',\n",
       " 'https://github.com/walletconnect/walletconnect-monorepo',\n",
       " 'https://github.com/nomicfoundation/hardhat']"
      ]
     },
     "execution_count": 9,
     "metadata": {},
     "output_type": "execute_result"
    }
   ],
   "source": [
    "projects[:5]"
   ]
  },
  {
   "cell_type": "code",
   "execution_count": 10,
   "metadata": {},
   "outputs": [],
   "source": [
    "overviews = get_project_overview(projects)"
   ]
  },
  {
   "cell_type": "code",
   "execution_count": 11,
   "metadata": {},
   "outputs": [],
   "source": [
    "import json\n",
    "with open(f'{part_path}/overviews.json', 'w') as f:\n",
    "    json.dump(overviews, f, indent=2)"
   ]
  },
  {
   "cell_type": "code",
   "execution_count": 12,
   "metadata": {},
   "outputs": [],
   "source": [
    "def get_overview_embeddings(projects):\n",
    "    for project in projects:\n",
    "        project['embedding'] = get_embedding(project['overview'])\n",
    "    return projects"
   ]
  },
  {
   "cell_type": "code",
   "execution_count": 13,
   "metadata": {},
   "outputs": [],
   "source": [
    "emb = get_overview_embeddings(overviews)"
   ]
  },
  {
   "cell_type": "code",
   "execution_count": 14,
   "metadata": {},
   "outputs": [],
   "source": [
    "df_embeddings = pd.DataFrame(emb)"
   ]
  },
  {
   "cell_type": "code",
   "execution_count": 15,
   "metadata": {},
   "outputs": [
    {
     "data": {
      "text/html": [
       "<div>\n",
       "<style scoped>\n",
       "    .dataframe tbody tr th:only-of-type {\n",
       "        vertical-align: middle;\n",
       "    }\n",
       "\n",
       "    .dataframe tbody tr th {\n",
       "        vertical-align: top;\n",
       "    }\n",
       "\n",
       "    .dataframe thead th {\n",
       "        text-align: right;\n",
       "    }\n",
       "</style>\n",
       "<table border=\"1\" class=\"dataframe\">\n",
       "  <thead>\n",
       "    <tr style=\"text-align: right;\">\n",
       "      <th></th>\n",
       "      <th>project_name</th>\n",
       "      <th>overview</th>\n",
       "      <th>embedding</th>\n",
       "    </tr>\n",
       "  </thead>\n",
       "  <tbody>\n",
       "    <tr>\n",
       "      <th>112</th>\n",
       "      <td>https://github.com/ethereum/solc-js</td>\n",
       "      <td>### Overview of `solc-js`\\n\\n**1. By Function ...</td>\n",
       "      <td>[-0.008000501431524754, -0.010727286338806152,...</td>\n",
       "    </tr>\n",
       "    <tr>\n",
       "      <th>113</th>\n",
       "      <td>https://github.com/erigontech/erigon</td>\n",
       "      <td>**Overview of Erigon**\\n\\n1. **By Function or ...</td>\n",
       "      <td>[0.018576037138700485, 0.011656154878437519, 0...</td>\n",
       "    </tr>\n",
       "    <tr>\n",
       "      <th>114</th>\n",
       "      <td>https://github.com/alloy-rs/core</td>\n",
       "      <td>To provide an overview of the `alloy-rs/core` ...</td>\n",
       "      <td>[-0.003400195622816682, 0.004520187620073557, ...</td>\n",
       "    </tr>\n",
       "    <tr>\n",
       "      <th>115</th>\n",
       "      <td>https://github.com/ajv-validator/ajv</td>\n",
       "      <td>AJV (Another JSON Schema Validator) is an open...</td>\n",
       "      <td>[-0.013800190761685371, 0.009868741035461426, ...</td>\n",
       "    </tr>\n",
       "    <tr>\n",
       "      <th>116</th>\n",
       "      <td>https://github.com/ethereum/web3.py</td>\n",
       "      <td>Sure! Here's an overview of the `web3.py` proj...</td>\n",
       "      <td>[-0.033577024936676025, -0.006587077863514423,...</td>\n",
       "    </tr>\n",
       "  </tbody>\n",
       "</table>\n",
       "</div>"
      ],
      "text/plain": [
       "                             project_name  \\\n",
       "112   https://github.com/ethereum/solc-js   \n",
       "113  https://github.com/erigontech/erigon   \n",
       "114      https://github.com/alloy-rs/core   \n",
       "115  https://github.com/ajv-validator/ajv   \n",
       "116   https://github.com/ethereum/web3.py   \n",
       "\n",
       "                                              overview  \\\n",
       "112  ### Overview of `solc-js`\\n\\n**1. By Function ...   \n",
       "113  **Overview of Erigon**\\n\\n1. **By Function or ...   \n",
       "114  To provide an overview of the `alloy-rs/core` ...   \n",
       "115  AJV (Another JSON Schema Validator) is an open...   \n",
       "116  Sure! Here's an overview of the `web3.py` proj...   \n",
       "\n",
       "                                             embedding  \n",
       "112  [-0.008000501431524754, -0.010727286338806152,...  \n",
       "113  [0.018576037138700485, 0.011656154878437519, 0...  \n",
       "114  [-0.003400195622816682, 0.004520187620073557, ...  \n",
       "115  [-0.013800190761685371, 0.009868741035461426, ...  \n",
       "116  [-0.033577024936676025, -0.006587077863514423,...  "
      ]
     },
     "execution_count": 15,
     "metadata": {},
     "output_type": "execute_result"
    }
   ],
   "source": [
    "df_embeddings.tail()"
   ]
  },
  {
   "cell_type": "code",
   "execution_count": 16,
   "metadata": {},
   "outputs": [],
   "source": [
    "df_embeddings.to_csv(part_path / 'processed/project-embeddings.csv', index=False)"
   ]
  },
  {
   "cell_type": "code",
   "execution_count": 17,
   "metadata": {},
   "outputs": [],
   "source": [
    "df_train = pd.read_csv(part_path / 'train.csv')\n",
    "df_test = pd.read_csv(part_path / 'test.csv')"
   ]
  },
  {
   "cell_type": "code",
   "execution_count": 18,
   "metadata": {},
   "outputs": [],
   "source": [
    "df_train = df_train.merge(\n",
    "    df_embeddings, \n",
    "    left_on='project_a', \n",
    "    right_on='project_name', \n",
    "    how='left',\n",
    "    suffixes=('', '_a')\n",
    ")\n",
    "df_train.drop(columns=['project_name'], inplace=True)\n",
    "\n",
    "df_train = df_train.merge(\n",
    "    df_embeddings, \n",
    "    left_on='project_b', \n",
    "    right_on='project_name', \n",
    "    how='left',\n",
    "    suffixes=('', '_b')\n",
    ")\n",
    "df_train.drop(columns=['project_name'], inplace=True)\n"
   ]
  },
  {
   "cell_type": "code",
   "execution_count": 19,
   "metadata": {},
   "outputs": [],
   "source": [
    "df_test = df_test.merge(\n",
    "    df_embeddings, \n",
    "    left_on='project_a', \n",
    "    right_on='project_name', \n",
    "    how='left',\n",
    "    suffixes=('', '_a')\n",
    ")\n",
    "df_test.drop(columns=['project_name'], inplace=True)\n",
    "\n",
    "df_test = df_test.merge(\n",
    "    df_embeddings, \n",
    "    left_on='project_b', \n",
    "    right_on='project_name', \n",
    "    how='left',\n",
    "    suffixes=('', '_b')\n",
    ")\n",
    "df_test.drop(columns=['project_name'], inplace=True)"
   ]
  },
  {
   "cell_type": "code",
   "execution_count": 20,
   "metadata": {},
   "outputs": [
    {
     "data": {
      "text/html": [
       "<div>\n",
       "<style scoped>\n",
       "    .dataframe tbody tr th:only-of-type {\n",
       "        vertical-align: middle;\n",
       "    }\n",
       "\n",
       "    .dataframe tbody tr th {\n",
       "        vertical-align: top;\n",
       "    }\n",
       "\n",
       "    .dataframe thead th {\n",
       "        text-align: right;\n",
       "    }\n",
       "</style>\n",
       "<table border=\"1\" class=\"dataframe\">\n",
       "  <thead>\n",
       "    <tr style=\"text-align: right;\">\n",
       "      <th></th>\n",
       "      <th>id</th>\n",
       "      <th>project_a</th>\n",
       "      <th>project_b</th>\n",
       "      <th>weight_a</th>\n",
       "      <th>weight_b</th>\n",
       "      <th>overview</th>\n",
       "      <th>embedding</th>\n",
       "      <th>overview_b</th>\n",
       "      <th>embedding_b</th>\n",
       "    </tr>\n",
       "  </thead>\n",
       "  <tbody>\n",
       "    <tr>\n",
       "      <th>2386</th>\n",
       "      <td>3410</td>\n",
       "      <td>https://github.com/erigontech/erigon</td>\n",
       "      <td>https://github.com/bluealloy/revm</td>\n",
       "      <td>0.514138</td>\n",
       "      <td>0.485862</td>\n",
       "      <td>**Overview of Erigon**\\n\\n1. **By Function or ...</td>\n",
       "      <td>[0.018576037138700485, 0.011656154878437519, 0...</td>\n",
       "      <td>Certainly! Here's an overview of the \"revm\" pr...</td>\n",
       "      <td>[0.011202394030988216, 0.06186612322926521, 0....</td>\n",
       "    </tr>\n",
       "  </tbody>\n",
       "</table>\n",
       "</div>"
      ],
      "text/plain": [
       "        id                             project_a  \\\n",
       "2386  3410  https://github.com/erigontech/erigon   \n",
       "\n",
       "                              project_b  weight_a  weight_b  \\\n",
       "2386  https://github.com/bluealloy/revm  0.514138  0.485862   \n",
       "\n",
       "                                               overview  \\\n",
       "2386  **Overview of Erigon**\\n\\n1. **By Function or ...   \n",
       "\n",
       "                                              embedding  \\\n",
       "2386  [0.018576037138700485, 0.011656154878437519, 0...   \n",
       "\n",
       "                                             overview_b  \\\n",
       "2386  Certainly! Here's an overview of the \"revm\" pr...   \n",
       "\n",
       "                                            embedding_b  \n",
       "2386  [0.011202394030988216, 0.06186612322926521, 0....  "
      ]
     },
     "execution_count": 20,
     "metadata": {},
     "output_type": "execute_result"
    }
   ],
   "source": [
    "df_train.tail(1)"
   ]
  },
  {
   "cell_type": "code",
   "execution_count": 21,
   "metadata": {},
   "outputs": [],
   "source": [
    "df_train.to_csv(part_path / 'processed/train-embeddings-only.csv', index=False)\n",
    "df_test.to_csv(part_path / 'processed/test-embeddings-only.csv', index=False)\n"
   ]
  },
  {
   "cell_type": "code",
   "execution_count": null,
   "metadata": {},
   "outputs": [],
   "source": []
  }
 ],
 "metadata": {
  "kernelspec": {
   "display_name": ".venv",
   "language": "python",
   "name": "python3"
  },
  "language_info": {
   "codemirror_mode": {
    "name": "ipython",
    "version": 3
   },
   "file_extension": ".py",
   "mimetype": "text/x-python",
   "name": "python",
   "nbconvert_exporter": "python",
   "pygments_lexer": "ipython3",
   "version": "3.13.1"
  }
 },
 "nbformat": 4,
 "nbformat_minor": 2
}
